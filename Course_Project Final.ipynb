{
  "nbformat": 4,
  "nbformat_minor": 0,
  "metadata": {
    "colab": {
      "name": "Course Project.ipynb",
      "provenance": []
    },
    "kernelspec": {
      "name": "python3",
      "display_name": "Python 3"
    },
    "language_info": {
      "name": "python"
    },
    "accelerator": "GPU"
  },
  "cells": [
    {
      "cell_type": "markdown",
      "metadata": {
        "id": "IZO1sdnZAadK"
      },
      "source": [
        "#Getting Data from Kaggle\n",
        "Link: https://www.kaggle.com/c/DontGetKicked/overview"
      ]
    },
    {
      "cell_type": "code",
      "metadata": {
        "id": "WotYoXijI_M7",
        "colab": {
          "base_uri": "https://localhost:8080/"
        },
        "outputId": "50541868-37cc-48cb-e2f1-59516b968084"
      },
      "source": [
        "# !pip install kaggle\n",
        "# import os\n",
        "# os.environ['KAGGLE_CONFIG_DIR'] = r'/content/drive/MyDrive/Colab Notebooks/'\n",
        "# cd '/content/drive/MyDrive/Colab Notebooks/Course Project'\n",
        "# !kaggle competitions download -c DontGetKicked\n",
        "# !unzip \\*.zip && rm *.zip # unzips and removes the zips"
      ],
      "execution_count": 70,
      "outputs": [
        {
          "output_type": "stream",
          "text": [
            "time: 2.57 ms (started: 2021-08-13 14:44:31 +00:00)\n"
          ],
          "name": "stdout"
        }
      ]
    },
    {
      "cell_type": "code",
      "metadata": {
        "colab": {
          "base_uri": "https://localhost:8080/"
        },
        "id": "GuZew8m75J7g",
        "outputId": "598872b0-b0c6-4894-9e02-72634199297f"
      },
      "source": [
        "!pip install ipython-autotime\n",
        "%load_ext autotime"
      ],
      "execution_count": 71,
      "outputs": [
        {
          "output_type": "stream",
          "text": [
            "Requirement already satisfied: ipython-autotime in /usr/local/lib/python3.7/dist-packages (0.3.1)\n",
            "Requirement already satisfied: ipython in /usr/local/lib/python3.7/dist-packages (from ipython-autotime) (5.5.0)\n",
            "Requirement already satisfied: decorator in /usr/local/lib/python3.7/dist-packages (from ipython->ipython-autotime) (4.4.2)\n",
            "Requirement already satisfied: setuptools>=18.5 in /usr/local/lib/python3.7/dist-packages (from ipython->ipython-autotime) (57.2.0)\n",
            "Requirement already satisfied: prompt-toolkit<2.0.0,>=1.0.4 in /usr/local/lib/python3.7/dist-packages (from ipython->ipython-autotime) (1.0.18)\n",
            "Requirement already satisfied: pygments in /usr/local/lib/python3.7/dist-packages (from ipython->ipython-autotime) (2.6.1)\n",
            "Requirement already satisfied: traitlets>=4.2 in /usr/local/lib/python3.7/dist-packages (from ipython->ipython-autotime) (5.0.5)\n",
            "Requirement already satisfied: pexpect in /usr/local/lib/python3.7/dist-packages (from ipython->ipython-autotime) (4.8.0)\n",
            "Requirement already satisfied: simplegeneric>0.8 in /usr/local/lib/python3.7/dist-packages (from ipython->ipython-autotime) (0.8.1)\n",
            "Requirement already satisfied: pickleshare in /usr/local/lib/python3.7/dist-packages (from ipython->ipython-autotime) (0.7.5)\n",
            "Requirement already satisfied: six>=1.9.0 in /usr/local/lib/python3.7/dist-packages (from prompt-toolkit<2.0.0,>=1.0.4->ipython->ipython-autotime) (1.15.0)\n",
            "Requirement already satisfied: wcwidth in /usr/local/lib/python3.7/dist-packages (from prompt-toolkit<2.0.0,>=1.0.4->ipython->ipython-autotime) (0.2.5)\n",
            "Requirement already satisfied: ipython-genutils in /usr/local/lib/python3.7/dist-packages (from traitlets>=4.2->ipython->ipython-autotime) (0.2.0)\n",
            "Requirement already satisfied: ptyprocess>=0.5 in /usr/local/lib/python3.7/dist-packages (from pexpect->ipython->ipython-autotime) (0.7.0)\n",
            "The autotime extension is already loaded. To reload it, use:\n",
            "  %reload_ext autotime\n",
            "time: 2.75 s (started: 2021-08-13 14:44:32 +00:00)\n"
          ],
          "name": "stdout"
        }
      ]
    },
    {
      "cell_type": "markdown",
      "metadata": {
        "id": "ge6W33ENA_It"
      },
      "source": [
        "#Importing Data, doing Data Analysis, doing data pre-processing and taking care of null values"
      ]
    },
    {
      "cell_type": "code",
      "metadata": {
        "id": "8fGXZ1AfOX5H",
        "colab": {
          "base_uri": "https://localhost:8080/"
        },
        "outputId": "520379bd-ee70-41a7-b5eb-8509a7fd3f21"
      },
      "source": [
        "import pandas as pd\n",
        "data = pd.read_csv(\"/content/drive/MyDrive/Colab Notebooks/Course Project/training.csv\")"
      ],
      "execution_count": 72,
      "outputs": [
        {
          "output_type": "stream",
          "text": [
            "time: 434 ms (started: 2021-08-13 14:44:35 +00:00)\n"
          ],
          "name": "stdout"
        }
      ]
    },
    {
      "cell_type": "code",
      "metadata": {
        "colab": {
          "base_uri": "https://localhost:8080/"
        },
        "id": "ruFmussXPR0J",
        "outputId": "7d83cfc7-0c3f-487a-acc3-c1a828e3ee49"
      },
      "source": [
        "# Shape of the data\n",
        "print(\"Training data:\", data.shape)"
      ],
      "execution_count": 73,
      "outputs": [
        {
          "output_type": "stream",
          "text": [
            "Training data: (72983, 34)\n",
            "Test data: (48707, 33)\n",
            "time: 1.67 ms (started: 2021-08-13 14:44:35 +00:00)\n"
          ],
          "name": "stdout"
        }
      ]
    },
    {
      "cell_type": "code",
      "metadata": {
        "colab": {
          "base_uri": "https://localhost:8080/"
        },
        "id": "GFoG-euWPU_X",
        "outputId": "005150bb-f58f-4221-f54c-acd34ee62697"
      },
      "source": [
        "# Null Values\n",
        "data.isnull().sum()"
      ],
      "execution_count": 74,
      "outputs": [
        {
          "output_type": "execute_result",
          "data": {
            "text/plain": [
              "RefId                                    0\n",
              "IsBadBuy                                 0\n",
              "PurchDate                                0\n",
              "Auction                                  0\n",
              "VehYear                                  0\n",
              "VehicleAge                               0\n",
              "Make                                     0\n",
              "Model                                    0\n",
              "Trim                                  2360\n",
              "SubModel                                 8\n",
              "Color                                    8\n",
              "Transmission                             9\n",
              "WheelTypeID                           3169\n",
              "WheelType                             3174\n",
              "VehOdo                                   0\n",
              "Nationality                              5\n",
              "Size                                     5\n",
              "TopThreeAmericanName                     5\n",
              "MMRAcquisitionAuctionAveragePrice       18\n",
              "MMRAcquisitionAuctionCleanPrice         18\n",
              "MMRAcquisitionRetailAveragePrice        18\n",
              "MMRAcquisitonRetailCleanPrice           18\n",
              "MMRCurrentAuctionAveragePrice          315\n",
              "MMRCurrentAuctionCleanPrice            315\n",
              "MMRCurrentRetailAveragePrice           315\n",
              "MMRCurrentRetailCleanPrice             315\n",
              "PRIMEUNIT                            69564\n",
              "AUCGUART                             69564\n",
              "BYRNO                                    0\n",
              "VNZIP1                                   0\n",
              "VNST                                     0\n",
              "VehBCost                                 0\n",
              "IsOnlineSale                             0\n",
              "WarrantyCost                             0\n",
              "dtype: int64"
            ]
          },
          "metadata": {
            "tags": []
          },
          "execution_count": 74
        },
        {
          "output_type": "stream",
          "text": [
            "time: 49.5 ms (started: 2021-08-13 14:44:35 +00:00)\n"
          ],
          "name": "stdout"
        }
      ]
    },
    {
      "cell_type": "code",
      "metadata": {
        "colab": {
          "base_uri": "https://localhost:8080/",
          "height": 394
        },
        "id": "GTrFP2UzPheG",
        "outputId": "f8fe8706-4f9d-4ac5-d56a-78db487105d8"
      },
      "source": [
        "data.head()"
      ],
      "execution_count": 77,
      "outputs": [
        {
          "output_type": "execute_result",
          "data": {
            "text/html": [
              "<div>\n",
              "<style scoped>\n",
              "    .dataframe tbody tr th:only-of-type {\n",
              "        vertical-align: middle;\n",
              "    }\n",
              "\n",
              "    .dataframe tbody tr th {\n",
              "        vertical-align: top;\n",
              "    }\n",
              "\n",
              "    .dataframe thead th {\n",
              "        text-align: right;\n",
              "    }\n",
              "</style>\n",
              "<table border=\"1\" class=\"dataframe\">\n",
              "  <thead>\n",
              "    <tr style=\"text-align: right;\">\n",
              "      <th></th>\n",
              "      <th>RefId</th>\n",
              "      <th>IsBadBuy</th>\n",
              "      <th>PurchDate</th>\n",
              "      <th>Auction</th>\n",
              "      <th>VehYear</th>\n",
              "      <th>VehicleAge</th>\n",
              "      <th>Make</th>\n",
              "      <th>Model</th>\n",
              "      <th>Trim</th>\n",
              "      <th>SubModel</th>\n",
              "      <th>Color</th>\n",
              "      <th>Transmission</th>\n",
              "      <th>WheelTypeID</th>\n",
              "      <th>WheelType</th>\n",
              "      <th>VehOdo</th>\n",
              "      <th>Nationality</th>\n",
              "      <th>Size</th>\n",
              "      <th>TopThreeAmericanName</th>\n",
              "      <th>MMRAcquisitionAuctionAveragePrice</th>\n",
              "      <th>MMRAcquisitionAuctionCleanPrice</th>\n",
              "      <th>MMRAcquisitionRetailAveragePrice</th>\n",
              "      <th>MMRAcquisitonRetailCleanPrice</th>\n",
              "      <th>MMRCurrentAuctionAveragePrice</th>\n",
              "      <th>MMRCurrentAuctionCleanPrice</th>\n",
              "      <th>MMRCurrentRetailAveragePrice</th>\n",
              "      <th>MMRCurrentRetailCleanPrice</th>\n",
              "      <th>PRIMEUNIT</th>\n",
              "      <th>AUCGUART</th>\n",
              "      <th>BYRNO</th>\n",
              "      <th>VNZIP1</th>\n",
              "      <th>VNST</th>\n",
              "      <th>VehBCost</th>\n",
              "      <th>IsOnlineSale</th>\n",
              "      <th>WarrantyCost</th>\n",
              "    </tr>\n",
              "  </thead>\n",
              "  <tbody>\n",
              "    <tr>\n",
              "      <th>0</th>\n",
              "      <td>1</td>\n",
              "      <td>0</td>\n",
              "      <td>12/7/2009</td>\n",
              "      <td>ADESA</td>\n",
              "      <td>2006</td>\n",
              "      <td>3</td>\n",
              "      <td>MAZDA</td>\n",
              "      <td>MAZDA3</td>\n",
              "      <td>i</td>\n",
              "      <td>4D SEDAN I</td>\n",
              "      <td>RED</td>\n",
              "      <td>AUTO</td>\n",
              "      <td>1.0</td>\n",
              "      <td>Alloy</td>\n",
              "      <td>89046</td>\n",
              "      <td>OTHER ASIAN</td>\n",
              "      <td>MEDIUM</td>\n",
              "      <td>OTHER</td>\n",
              "      <td>8155.0</td>\n",
              "      <td>9829.0</td>\n",
              "      <td>11636.0</td>\n",
              "      <td>13600.0</td>\n",
              "      <td>7451.0</td>\n",
              "      <td>8552.0</td>\n",
              "      <td>11597.0</td>\n",
              "      <td>12409.0</td>\n",
              "      <td>NaN</td>\n",
              "      <td>NaN</td>\n",
              "      <td>21973</td>\n",
              "      <td>33619</td>\n",
              "      <td>FL</td>\n",
              "      <td>7100.0</td>\n",
              "      <td>0</td>\n",
              "      <td>1113</td>\n",
              "    </tr>\n",
              "    <tr>\n",
              "      <th>1</th>\n",
              "      <td>2</td>\n",
              "      <td>0</td>\n",
              "      <td>12/7/2009</td>\n",
              "      <td>ADESA</td>\n",
              "      <td>2004</td>\n",
              "      <td>5</td>\n",
              "      <td>DODGE</td>\n",
              "      <td>1500 RAM PICKUP 2WD</td>\n",
              "      <td>ST</td>\n",
              "      <td>QUAD CAB 4.7L SLT</td>\n",
              "      <td>WHITE</td>\n",
              "      <td>AUTO</td>\n",
              "      <td>1.0</td>\n",
              "      <td>Alloy</td>\n",
              "      <td>93593</td>\n",
              "      <td>AMERICAN</td>\n",
              "      <td>LARGE TRUCK</td>\n",
              "      <td>CHRYSLER</td>\n",
              "      <td>6854.0</td>\n",
              "      <td>8383.0</td>\n",
              "      <td>10897.0</td>\n",
              "      <td>12572.0</td>\n",
              "      <td>7456.0</td>\n",
              "      <td>9222.0</td>\n",
              "      <td>11374.0</td>\n",
              "      <td>12791.0</td>\n",
              "      <td>NaN</td>\n",
              "      <td>NaN</td>\n",
              "      <td>19638</td>\n",
              "      <td>33619</td>\n",
              "      <td>FL</td>\n",
              "      <td>7600.0</td>\n",
              "      <td>0</td>\n",
              "      <td>1053</td>\n",
              "    </tr>\n",
              "    <tr>\n",
              "      <th>2</th>\n",
              "      <td>3</td>\n",
              "      <td>0</td>\n",
              "      <td>12/7/2009</td>\n",
              "      <td>ADESA</td>\n",
              "      <td>2005</td>\n",
              "      <td>4</td>\n",
              "      <td>DODGE</td>\n",
              "      <td>STRATUS V6</td>\n",
              "      <td>SXT</td>\n",
              "      <td>4D SEDAN SXT FFV</td>\n",
              "      <td>MAROON</td>\n",
              "      <td>AUTO</td>\n",
              "      <td>2.0</td>\n",
              "      <td>Covers</td>\n",
              "      <td>73807</td>\n",
              "      <td>AMERICAN</td>\n",
              "      <td>MEDIUM</td>\n",
              "      <td>CHRYSLER</td>\n",
              "      <td>3202.0</td>\n",
              "      <td>4760.0</td>\n",
              "      <td>6943.0</td>\n",
              "      <td>8457.0</td>\n",
              "      <td>4035.0</td>\n",
              "      <td>5557.0</td>\n",
              "      <td>7146.0</td>\n",
              "      <td>8702.0</td>\n",
              "      <td>NaN</td>\n",
              "      <td>NaN</td>\n",
              "      <td>19638</td>\n",
              "      <td>33619</td>\n",
              "      <td>FL</td>\n",
              "      <td>4900.0</td>\n",
              "      <td>0</td>\n",
              "      <td>1389</td>\n",
              "    </tr>\n",
              "    <tr>\n",
              "      <th>3</th>\n",
              "      <td>4</td>\n",
              "      <td>0</td>\n",
              "      <td>12/7/2009</td>\n",
              "      <td>ADESA</td>\n",
              "      <td>2004</td>\n",
              "      <td>5</td>\n",
              "      <td>DODGE</td>\n",
              "      <td>NEON</td>\n",
              "      <td>SXT</td>\n",
              "      <td>4D SEDAN</td>\n",
              "      <td>SILVER</td>\n",
              "      <td>AUTO</td>\n",
              "      <td>1.0</td>\n",
              "      <td>Alloy</td>\n",
              "      <td>65617</td>\n",
              "      <td>AMERICAN</td>\n",
              "      <td>COMPACT</td>\n",
              "      <td>CHRYSLER</td>\n",
              "      <td>1893.0</td>\n",
              "      <td>2675.0</td>\n",
              "      <td>4658.0</td>\n",
              "      <td>5690.0</td>\n",
              "      <td>1844.0</td>\n",
              "      <td>2646.0</td>\n",
              "      <td>4375.0</td>\n",
              "      <td>5518.0</td>\n",
              "      <td>NaN</td>\n",
              "      <td>NaN</td>\n",
              "      <td>19638</td>\n",
              "      <td>33619</td>\n",
              "      <td>FL</td>\n",
              "      <td>4100.0</td>\n",
              "      <td>0</td>\n",
              "      <td>630</td>\n",
              "    </tr>\n",
              "    <tr>\n",
              "      <th>4</th>\n",
              "      <td>5</td>\n",
              "      <td>0</td>\n",
              "      <td>12/7/2009</td>\n",
              "      <td>ADESA</td>\n",
              "      <td>2005</td>\n",
              "      <td>4</td>\n",
              "      <td>FORD</td>\n",
              "      <td>FOCUS</td>\n",
              "      <td>ZX3</td>\n",
              "      <td>2D COUPE ZX3</td>\n",
              "      <td>SILVER</td>\n",
              "      <td>MANUAL</td>\n",
              "      <td>2.0</td>\n",
              "      <td>Covers</td>\n",
              "      <td>69367</td>\n",
              "      <td>AMERICAN</td>\n",
              "      <td>COMPACT</td>\n",
              "      <td>FORD</td>\n",
              "      <td>3913.0</td>\n",
              "      <td>5054.0</td>\n",
              "      <td>7723.0</td>\n",
              "      <td>8707.0</td>\n",
              "      <td>3247.0</td>\n",
              "      <td>4384.0</td>\n",
              "      <td>6739.0</td>\n",
              "      <td>7911.0</td>\n",
              "      <td>NaN</td>\n",
              "      <td>NaN</td>\n",
              "      <td>19638</td>\n",
              "      <td>33619</td>\n",
              "      <td>FL</td>\n",
              "      <td>4000.0</td>\n",
              "      <td>0</td>\n",
              "      <td>1020</td>\n",
              "    </tr>\n",
              "  </tbody>\n",
              "</table>\n",
              "</div>"
            ],
            "text/plain": [
              "   RefId  IsBadBuy  PurchDate  ... VehBCost  IsOnlineSale  WarrantyCost\n",
              "0      1         0  12/7/2009  ...   7100.0             0          1113\n",
              "1      2         0  12/7/2009  ...   7600.0             0          1053\n",
              "2      3         0  12/7/2009  ...   4900.0             0          1389\n",
              "3      4         0  12/7/2009  ...   4100.0             0           630\n",
              "4      5         0  12/7/2009  ...   4000.0             0          1020\n",
              "\n",
              "[5 rows x 34 columns]"
            ]
          },
          "metadata": {
            "tags": []
          },
          "execution_count": 77
        },
        {
          "output_type": "stream",
          "text": [
            "time: 85 ms (started: 2021-08-13 14:44:35 +00:00)\n"
          ],
          "name": "stdout"
        }
      ]
    },
    {
      "cell_type": "code",
      "metadata": {
        "colab": {
          "base_uri": "https://localhost:8080/",
          "height": 334
        },
        "id": "sVIA3yOYghXh",
        "outputId": "a4e4fd27-f5b7-470b-bd22-b3fb781759fe"
      },
      "source": [
        "data.describe()"
      ],
      "execution_count": 78,
      "outputs": [
        {
          "output_type": "execute_result",
          "data": {
            "text/html": [
              "<div>\n",
              "<style scoped>\n",
              "    .dataframe tbody tr th:only-of-type {\n",
              "        vertical-align: middle;\n",
              "    }\n",
              "\n",
              "    .dataframe tbody tr th {\n",
              "        vertical-align: top;\n",
              "    }\n",
              "\n",
              "    .dataframe thead th {\n",
              "        text-align: right;\n",
              "    }\n",
              "</style>\n",
              "<table border=\"1\" class=\"dataframe\">\n",
              "  <thead>\n",
              "    <tr style=\"text-align: right;\">\n",
              "      <th></th>\n",
              "      <th>RefId</th>\n",
              "      <th>IsBadBuy</th>\n",
              "      <th>VehYear</th>\n",
              "      <th>VehicleAge</th>\n",
              "      <th>WheelTypeID</th>\n",
              "      <th>VehOdo</th>\n",
              "      <th>MMRAcquisitionAuctionAveragePrice</th>\n",
              "      <th>MMRAcquisitionAuctionCleanPrice</th>\n",
              "      <th>MMRAcquisitionRetailAveragePrice</th>\n",
              "      <th>MMRAcquisitonRetailCleanPrice</th>\n",
              "      <th>MMRCurrentAuctionAveragePrice</th>\n",
              "      <th>MMRCurrentAuctionCleanPrice</th>\n",
              "      <th>MMRCurrentRetailAveragePrice</th>\n",
              "      <th>MMRCurrentRetailCleanPrice</th>\n",
              "      <th>BYRNO</th>\n",
              "      <th>VNZIP1</th>\n",
              "      <th>VehBCost</th>\n",
              "      <th>IsOnlineSale</th>\n",
              "      <th>WarrantyCost</th>\n",
              "    </tr>\n",
              "  </thead>\n",
              "  <tbody>\n",
              "    <tr>\n",
              "      <th>count</th>\n",
              "      <td>72983.000000</td>\n",
              "      <td>72983.000000</td>\n",
              "      <td>72983.000000</td>\n",
              "      <td>72983.000000</td>\n",
              "      <td>69814.000000</td>\n",
              "      <td>72983.000000</td>\n",
              "      <td>72965.000000</td>\n",
              "      <td>72965.000000</td>\n",
              "      <td>72965.000000</td>\n",
              "      <td>72965.000000</td>\n",
              "      <td>72668.000000</td>\n",
              "      <td>72668.000000</td>\n",
              "      <td>72668.000000</td>\n",
              "      <td>72668.000000</td>\n",
              "      <td>72983.000000</td>\n",
              "      <td>72983.000000</td>\n",
              "      <td>72983.000000</td>\n",
              "      <td>72983.000000</td>\n",
              "      <td>72983.000000</td>\n",
              "    </tr>\n",
              "    <tr>\n",
              "      <th>mean</th>\n",
              "      <td>36511.428497</td>\n",
              "      <td>0.122988</td>\n",
              "      <td>2005.343052</td>\n",
              "      <td>4.176644</td>\n",
              "      <td>1.494299</td>\n",
              "      <td>71499.995917</td>\n",
              "      <td>6128.909217</td>\n",
              "      <td>7373.636031</td>\n",
              "      <td>8497.034332</td>\n",
              "      <td>9850.928240</td>\n",
              "      <td>6132.081287</td>\n",
              "      <td>7390.681827</td>\n",
              "      <td>8775.723331</td>\n",
              "      <td>10145.385314</td>\n",
              "      <td>26345.842155</td>\n",
              "      <td>58043.059945</td>\n",
              "      <td>6730.934326</td>\n",
              "      <td>0.025280</td>\n",
              "      <td>1276.580985</td>\n",
              "    </tr>\n",
              "    <tr>\n",
              "      <th>std</th>\n",
              "      <td>21077.241302</td>\n",
              "      <td>0.328425</td>\n",
              "      <td>1.731252</td>\n",
              "      <td>1.712210</td>\n",
              "      <td>0.521290</td>\n",
              "      <td>14578.913128</td>\n",
              "      <td>2461.992768</td>\n",
              "      <td>2722.491986</td>\n",
              "      <td>3156.285284</td>\n",
              "      <td>3385.789541</td>\n",
              "      <td>2434.567723</td>\n",
              "      <td>2686.248852</td>\n",
              "      <td>3090.702941</td>\n",
              "      <td>3310.254351</td>\n",
              "      <td>25717.351219</td>\n",
              "      <td>26151.640415</td>\n",
              "      <td>1767.846435</td>\n",
              "      <td>0.156975</td>\n",
              "      <td>598.846788</td>\n",
              "    </tr>\n",
              "    <tr>\n",
              "      <th>min</th>\n",
              "      <td>1.000000</td>\n",
              "      <td>0.000000</td>\n",
              "      <td>2001.000000</td>\n",
              "      <td>0.000000</td>\n",
              "      <td>0.000000</td>\n",
              "      <td>4825.000000</td>\n",
              "      <td>0.000000</td>\n",
              "      <td>0.000000</td>\n",
              "      <td>0.000000</td>\n",
              "      <td>0.000000</td>\n",
              "      <td>0.000000</td>\n",
              "      <td>0.000000</td>\n",
              "      <td>0.000000</td>\n",
              "      <td>0.000000</td>\n",
              "      <td>835.000000</td>\n",
              "      <td>2764.000000</td>\n",
              "      <td>1.000000</td>\n",
              "      <td>0.000000</td>\n",
              "      <td>462.000000</td>\n",
              "    </tr>\n",
              "    <tr>\n",
              "      <th>25%</th>\n",
              "      <td>18257.500000</td>\n",
              "      <td>0.000000</td>\n",
              "      <td>2004.000000</td>\n",
              "      <td>3.000000</td>\n",
              "      <td>1.000000</td>\n",
              "      <td>61837.000000</td>\n",
              "      <td>4273.000000</td>\n",
              "      <td>5406.000000</td>\n",
              "      <td>6280.000000</td>\n",
              "      <td>7493.000000</td>\n",
              "      <td>4275.000000</td>\n",
              "      <td>5414.000000</td>\n",
              "      <td>6536.000000</td>\n",
              "      <td>7784.000000</td>\n",
              "      <td>17212.000000</td>\n",
              "      <td>32124.000000</td>\n",
              "      <td>5435.000000</td>\n",
              "      <td>0.000000</td>\n",
              "      <td>837.000000</td>\n",
              "    </tr>\n",
              "    <tr>\n",
              "      <th>50%</th>\n",
              "      <td>36514.000000</td>\n",
              "      <td>0.000000</td>\n",
              "      <td>2005.000000</td>\n",
              "      <td>4.000000</td>\n",
              "      <td>1.000000</td>\n",
              "      <td>73361.000000</td>\n",
              "      <td>6097.000000</td>\n",
              "      <td>7303.000000</td>\n",
              "      <td>8444.000000</td>\n",
              "      <td>9789.000000</td>\n",
              "      <td>6062.000000</td>\n",
              "      <td>7313.000000</td>\n",
              "      <td>8729.000000</td>\n",
              "      <td>10103.000000</td>\n",
              "      <td>19662.000000</td>\n",
              "      <td>73108.000000</td>\n",
              "      <td>6700.000000</td>\n",
              "      <td>0.000000</td>\n",
              "      <td>1155.000000</td>\n",
              "    </tr>\n",
              "    <tr>\n",
              "      <th>75%</th>\n",
              "      <td>54764.500000</td>\n",
              "      <td>0.000000</td>\n",
              "      <td>2007.000000</td>\n",
              "      <td>5.000000</td>\n",
              "      <td>2.000000</td>\n",
              "      <td>82436.000000</td>\n",
              "      <td>7765.000000</td>\n",
              "      <td>9021.000000</td>\n",
              "      <td>10651.000000</td>\n",
              "      <td>12088.000000</td>\n",
              "      <td>7736.000000</td>\n",
              "      <td>9013.000000</td>\n",
              "      <td>10911.000000</td>\n",
              "      <td>12309.000000</td>\n",
              "      <td>22808.000000</td>\n",
              "      <td>80022.000000</td>\n",
              "      <td>7900.000000</td>\n",
              "      <td>0.000000</td>\n",
              "      <td>1623.000000</td>\n",
              "    </tr>\n",
              "    <tr>\n",
              "      <th>max</th>\n",
              "      <td>73014.000000</td>\n",
              "      <td>1.000000</td>\n",
              "      <td>2010.000000</td>\n",
              "      <td>9.000000</td>\n",
              "      <td>3.000000</td>\n",
              "      <td>115717.000000</td>\n",
              "      <td>35722.000000</td>\n",
              "      <td>36859.000000</td>\n",
              "      <td>39080.000000</td>\n",
              "      <td>41482.000000</td>\n",
              "      <td>35722.000000</td>\n",
              "      <td>36859.000000</td>\n",
              "      <td>39080.000000</td>\n",
              "      <td>41062.000000</td>\n",
              "      <td>99761.000000</td>\n",
              "      <td>99224.000000</td>\n",
              "      <td>45469.000000</td>\n",
              "      <td>1.000000</td>\n",
              "      <td>7498.000000</td>\n",
              "    </tr>\n",
              "  </tbody>\n",
              "</table>\n",
              "</div>"
            ],
            "text/plain": [
              "              RefId      IsBadBuy  ...  IsOnlineSale  WarrantyCost\n",
              "count  72983.000000  72983.000000  ...  72983.000000  72983.000000\n",
              "mean   36511.428497      0.122988  ...      0.025280   1276.580985\n",
              "std    21077.241302      0.328425  ...      0.156975    598.846788\n",
              "min        1.000000      0.000000  ...      0.000000    462.000000\n",
              "25%    18257.500000      0.000000  ...      0.000000    837.000000\n",
              "50%    36514.000000      0.000000  ...      0.000000   1155.000000\n",
              "75%    54764.500000      0.000000  ...      0.000000   1623.000000\n",
              "max    73014.000000      1.000000  ...      1.000000   7498.000000\n",
              "\n",
              "[8 rows x 19 columns]"
            ]
          },
          "metadata": {
            "tags": []
          },
          "execution_count": 78
        },
        {
          "output_type": "stream",
          "text": [
            "time: 129 ms (started: 2021-08-13 14:44:36 +00:00)\n"
          ],
          "name": "stdout"
        }
      ]
    },
    {
      "cell_type": "code",
      "metadata": {
        "colab": {
          "base_uri": "https://localhost:8080/"
        },
        "id": "v0OmQKyqSyx0",
        "outputId": "52babb52-54b0-4124-d1bd-abd99b7ff46c"
      },
      "source": [
        "# Looking the Unique Values in each Columns\n",
        "for col in columns:\n",
        "  print(col)\n",
        "  print(data[col].unique())\n",
        "  print(\"------------------------------\")"
      ],
      "execution_count": 79,
      "outputs": [
        {
          "output_type": "stream",
          "text": [
            "RefId\n",
            "[    1     2     3 ... 73012 73013 73014]\n",
            "------------------------------\n",
            "IsBadBuy\n",
            "[0 1]\n",
            "------------------------------\n",
            "PurchDate\n",
            "['12/7/2009' '12/14/2009' '12/21/2009' '12/28/2009' '1/4/2010' '1/11/2010'\n",
            " '1/18/2010' '1/25/2010' '2/1/2010' '2/8/2010' '2/15/2010' '2/22/2010'\n",
            " '3/1/2010' '3/8/2010' '3/15/2010' '3/22/2010' '3/29/2010' '4/5/2010'\n",
            " '4/12/2010' '4/19/2010' '4/26/2010' '5/3/2010' '5/10/2010' '5/17/2010'\n",
            " '5/24/2010' '6/2/2010' '9/27/2010' '10/4/2010' '10/11/2010' '10/18/2010'\n",
            " '10/25/2010' '11/1/2010' '11/8/2010' '11/15/2010' '11/22/2010'\n",
            " '11/29/2010' '12/6/2010' '12/13/2010' '12/20/2010' '2/18/2009'\n",
            " '8/19/2009' '8/26/2009' '9/2/2009' '9/9/2009' '9/16/2009' '9/23/2009'\n",
            " '9/30/2009' '10/7/2009' '2/24/2010' '3/3/2010' '3/10/2010' '3/17/2010'\n",
            " '3/24/2010' '3/25/2010' '3/31/2010' '4/14/2010' '4/28/2010' '5/12/2010'\n",
            " '6/9/2010' '6/16/2010' '6/23/2010' '6/30/2010' '7/7/2010' '7/14/2010'\n",
            " '7/21/2010' '8/4/2010' '8/11/2010' '8/18/2010' '8/25/2010' '9/1/2010'\n",
            " '9/8/2010' '9/15/2010' '9/22/2010' '9/29/2010' '10/13/2010' '10/20/2010'\n",
            " '10/27/2010' '11/3/2010' '11/10/2010' '11/17/2010' '7/21/2009'\n",
            " '7/28/2009' '8/4/2009' '8/11/2009' '8/18/2009' '8/25/2009' '9/1/2009'\n",
            " '9/8/2009' '9/22/2009' '9/29/2009' '10/6/2009' '10/13/2009' '10/20/2009'\n",
            " '10/27/2009' '11/3/2009' '11/10/2009' '11/17/2009' '12/8/2009'\n",
            " '12/15/2009' '12/22/2009' '1/5/2010' '1/12/2010' '1/19/2010' '1/26/2010'\n",
            " '2/2/2010' '2/9/2010' '2/16/2010' '2/23/2010' '3/2/2010' '3/9/2010'\n",
            " '3/16/2010' '3/23/2010' '3/30/2010' '4/6/2010' '4/13/2010' '4/20/2010'\n",
            " '4/27/2010' '5/4/2010' '5/11/2010' '5/18/2010' '5/25/2010' '6/8/2010'\n",
            " '6/15/2010' '6/22/2010' '6/29/2010' '7/6/2010' '11/11/2010' '11/18/2010'\n",
            " '11/23/2010' '11/24/2010' '12/2/2010' '12/9/2010' '12/14/2010'\n",
            " '12/16/2010' '10/5/2010' '10/12/2010' '10/19/2010' '10/26/2010'\n",
            " '11/2/2010' '11/9/2010' '11/16/2010' '11/30/2010' '12/7/2010' '3/3/2009'\n",
            " '3/10/2009' '3/17/2009' '3/24/2009' '3/31/2009' '4/7/2009' '4/14/2009'\n",
            " '4/28/2009' '5/12/2009' '5/26/2009' '6/9/2009' '6/22/2009' '6/23/2009'\n",
            " '11/11/2009' '12/3/2009' '12/11/2009' '12/23/2009' '12/30/2009'\n",
            " '2/3/2010' '2/10/2010' '2/17/2010' '10/6/2010' '12/1/2010' '12/8/2010'\n",
            " '9/25/2009' '1/30/2009' '2/6/2009' '2/13/2009' '2/20/2009' '2/27/2009'\n",
            " '3/6/2009' '3/13/2009' '3/20/2009' '3/27/2009' '4/3/2009' '4/10/2009'\n",
            " '4/9/2010' '4/16/2010' '4/23/2010' '4/30/2010' '5/7/2010' '5/21/2010'\n",
            " '5/28/2010' '6/4/2010' '6/11/2010' '6/18/2010' '6/25/2010' '7/2/2010'\n",
            " '7/9/2010' '7/16/2010' '7/30/2010' '8/6/2010' '8/13/2010' '8/20/2010'\n",
            " '8/27/2010' '9/3/2010' '9/10/2010' '9/17/2010' '9/24/2010' '3/2/2009'\n",
            " '3/9/2009' '3/16/2009' '3/23/2009' '3/30/2009' '4/6/2009' '4/13/2009'\n",
            " '4/20/2009' '10/5/2009' '10/12/2009' '10/19/2009' '10/26/2009'\n",
            " '11/2/2009' '11/9/2009' '11/16/2009' '11/23/2009' '11/30/2009' '6/7/2010'\n",
            " '6/14/2010' '6/21/2010' '6/28/2010' '7/12/2010' '7/19/2010' '7/26/2010'\n",
            " '8/2/2010' '8/9/2010' '8/16/2010' '8/23/2010' '8/30/2010' '9/13/2010'\n",
            " '12/21/2010' '2/17/2009' '2/24/2009' '4/21/2009' '6/16/2009' '7/14/2009'\n",
            " '9/15/2009' '12/1/2009' '12/29/2009' '2/26/2010' '6/1/2010' '7/13/2010'\n",
            " '7/20/2010' '7/27/2010' '8/3/2010' '8/10/2010' '8/17/2010' '8/24/2010'\n",
            " '8/31/2010' '9/7/2010' '9/14/2010' '9/21/2010' '9/28/2010' '7/29/2009'\n",
            " '8/5/2009' '8/12/2009' '10/14/2009' '10/21/2009' '10/28/2009' '11/4/2009'\n",
            " '11/18/2009' '12/2/2009' '12/9/2009' '12/16/2009' '1/6/2010' '1/13/2010'\n",
            " '1/20/2010' '1/27/2010' '2/18/2010' '4/7/2010' '4/21/2010' '5/5/2010'\n",
            " '5/19/2010' '5/26/2010' '12/15/2010' '12/22/2010' '12/17/2010' '1/6/2009'\n",
            " '1/13/2009' '1/20/2009' '1/27/2009' '2/3/2009' '2/10/2009' '5/19/2009'\n",
            " '6/2/2009' '9/20/2010' '10/15/2009' '10/29/2009' '7/7/2009' '10/28/2010'\n",
            " '4/1/2009' '4/15/2009' '4/29/2009' '5/20/2009' '5/27/2009' '6/3/2009'\n",
            " '6/10/2009' '6/17/2009' '6/24/2009' '7/8/2009' '7/15/2009' '7/22/2009'\n",
            " '7/28/2010' '12/28/2010' '3/4/2009' '2/25/2009' '5/8/2009' '5/22/2009'\n",
            " '6/5/2009' '6/19/2009' '6/30/2009' '7/10/2009' '7/31/2009' '8/7/2009'\n",
            " '8/14/2009' '8/20/2009' '8/21/2009' '10/16/2009' '11/24/2009' '12/4/2009'\n",
            " '2/4/2010' '4/17/2009' '5/5/2009' '8/28/2009' '9/3/2009' '9/11/2009'\n",
            " '9/18/2009' '10/9/2009' '2/12/2010' '4/2/2010' '7/23/2010' '6/11/2009'\n",
            " '6/18/2009' '6/25/2009' '7/2/2009' '7/9/2009' '7/16/2009' '7/23/2009'\n",
            " '7/30/2009' '8/6/2009' '8/13/2009' '8/27/2009' '3/4/2010' '3/11/2010'\n",
            " '3/18/2010' '4/1/2010' '4/8/2010' '4/15/2010' '4/22/2010' '4/29/2010'\n",
            " '5/6/2010' '5/13/2010' '5/20/2010' '5/27/2010' '11/4/2010' '12/23/2010'\n",
            " '3/5/2009' '5/14/2010' '10/1/2010' '10/15/2010' '1/8/2009' '1/15/2009'\n",
            " '1/22/2009' '1/29/2009' '2/5/2009' '2/12/2009' '2/19/2009' '2/26/2009'\n",
            " '3/12/2009' '3/19/2009' '3/26/2009' '4/2/2009' '4/9/2009' '4/16/2009'\n",
            " '4/23/2009' '4/30/2009' '5/7/2009' '5/14/2009' '5/21/2009' '5/25/2009'\n",
            " '5/28/2009' '6/4/2009' '9/10/2009' '9/17/2009' '9/24/2009' '10/1/2009'\n",
            " '10/8/2009' '10/22/2009' '11/5/2009' '11/12/2009' '11/19/2009'\n",
            " '11/25/2009' '12/10/2009' '12/17/2009' '1/7/2010' '1/14/2010' '1/21/2010'\n",
            " '1/28/2010' '2/11/2010' '2/25/2010' '10/21/2010' '1/5/2009' '2/23/2009'\n",
            " '5/11/2009' '5/18/2009' '6/1/2009' '6/8/2009' '8/10/2009' '8/17/2009'\n",
            " '8/24/2009' '8/31/2009' '9/4/2009' '9/7/2009' '9/14/2009' '11/6/2009'\n",
            " '11/20/2009' '2/5/2010' '2/19/2010' '11/5/2010' '6/3/2010' '6/10/2010'\n",
            " '6/17/2010' '6/24/2010' '7/1/2010' '7/8/2010' '7/15/2010' '7/22/2010'\n",
            " '7/29/2010' '8/5/2010' '8/12/2010' '8/19/2010' '8/26/2010' '9/2/2010'\n",
            " '9/9/2010' '9/23/2010' '9/30/2010' '10/7/2010' '10/14/2010' '1/12/2009'\n",
            " '1/14/2009' '1/19/2009' '1/26/2009' '1/28/2009' '2/2/2009' '2/4/2009'\n",
            " '2/9/2009' '2/16/2009' '4/27/2009' '5/4/2009' '6/15/2009' '6/29/2009'\n",
            " '7/6/2009' '7/13/2009' '7/17/2009' '7/20/2009' '7/27/2009' '8/3/2009'\n",
            " '11/19/2010' '9/21/2009' '9/28/2009' '10/2/2009' '12/31/2009' '1/22/2010'\n",
            " '3/5/2010' '7/5/2010' '3/12/2010' '3/26/2010' '9/6/2010' '12/3/2010'\n",
            " '12/27/2010' '1/21/2009' '2/11/2009' '3/25/2009' '5/13/2009' '7/1/2009'\n",
            " '3/11/2009' '3/18/2009' '4/22/2009' '5/6/2009' '1/10/2010' '4/8/2009'\n",
            " '12/29/2010' '10/8/2010' '10/22/2010' '10/29/2010' '11/12/2010'\n",
            " '12/10/2010' '5/15/2009' '1/7/2009' '1/9/2009' '1/16/2009' '1/23/2009'\n",
            " '4/24/2009' '11/13/2009' '12/18/2009' '9/16/2010' '3/19/2010' '6/12/2009'\n",
            " '6/26/2009' '7/3/2009' '10/23/2009' '5/1/2009' '5/29/2009' '7/24/2009'\n",
            " '10/30/2009' '11/27/2009' '11/26/2010' '11/8/2009' '1/15/2010'\n",
            " '1/29/2010' '1/8/2010' '2/20/2010' '12/4/2010' '12/24/2010' '12/30/2010']\n",
            "------------------------------\n",
            "Auction\n",
            "['ADESA' 'OTHER' 'MANHEIM']\n",
            "------------------------------\n",
            "VehYear\n",
            "[2006 2004 2005 2007 2001 2003 2002 2008 2009 2010]\n",
            "------------------------------\n",
            "VehicleAge\n",
            "[3 5 4 2 8 6 7 9 1 0]\n",
            "------------------------------\n",
            "Make\n",
            "['MAZDA' 'DODGE' 'FORD' 'MITSUBISHI' 'KIA' 'GMC' 'NISSAN' 'CHEVROLET'\n",
            " 'SATURN' 'CHRYSLER' 'MERCURY' 'HYUNDAI' 'TOYOTA' 'PONTIAC' 'SUZUKI'\n",
            " 'JEEP' 'HONDA' 'OLDSMOBILE' 'BUICK' 'SCION' 'VOLKSWAGEN' 'ISUZU'\n",
            " 'LINCOLN' 'MINI' 'SUBARU' 'CADILLAC' 'VOLVO' 'INFINITI' 'PLYMOUTH'\n",
            " 'LEXUS' 'ACURA' 'TOYOTA SCION' 'HUMMER']\n",
            "------------------------------\n",
            "Model\n",
            "['MAZDA3' '1500 RAM PICKUP 2WD' 'STRATUS V6' ... 'EXCURSION 4WD V8 5.4'\n",
            " 'M45 4.5L V8 MPI / SF' 'PATRIOT 2WD 4C 2.0L']\n",
            "------------------------------\n",
            "Trim\n",
            "['i' 'ST' 'SXT' 'ZX3' 'ES' 'EX' 'SE' 'SEL' 'SLE' 'XL' 'Bas' 'LS' nan 'SS'\n",
            " 'SLT' '150' 'Spo' 'LX' 'GLS' 'CE' 'GT' 'Lar' '2' 'Adv' 'SR5' 'GXP' 'Tou'\n",
            " 'XLT' 'LT' 'SES' 'XLS' 'GL' 'LE' '1' 'L20' 'Lim' 's' 'Edd' '3' 'Edg'\n",
            " 'ZTW' 'ZX4' 'STX' 'CX' 'Nor' 'GS' 'XE' 'CXL' 'Ren' 'LTZ' 'ZTS' 'S' 'GTC'\n",
            " 'GTP' 'Cla' 'Spy' 'LXi' 'SE-' 'Exe' 'Pre' 'SL2' 'GXE' 'SL1' 'Cus' 'GLE'\n",
            " 'DE' 'Z71' 'Si' 'X' 'SX' 'XR' 'SVT' 'GTS' 'LW3' 'SV6' 'Val' 'Car' 'eL'\n",
            " 'DX' 'Spe' 'W/T' 'LW2' 'Pro' 'SL' 'L30' 'RT' 'CXS' 'VP' 'Cin' 'Max' 'Ral'\n",
            " 'Sta' 'Lux' 'R/T' 'Her' 'ZX5' 'Xsp' 'Kin' '3 R' 'Hig' 'GX' 'EX-' 'RS'\n",
            " 'Plu' 'Ult' 'DS' 'Ove' 'Den' 'XRS' 'SC2' 'Sig' 'SC1' 'XS' 'C' 'ZX2' 'ZXW'\n",
            " 'ZR2' 'Dur' 'OZ' 'L' '250' 'eC' 'FX4' 'Out' 'L10' 'Maz' 'Ent' 'T5' 'Z24'\n",
            " 'Har' 'LL' 'Hyb' 'JLX' 'JLS' 'L 3']\n",
            "------------------------------\n",
            "SubModel\n",
            "['4D SEDAN I' 'QUAD CAB 4.7L SLT' '4D SEDAN SXT FFV' '4D SEDAN'\n",
            " '2D COUPE ZX3' '4D SEDAN ES' '4D SEDAN EX' '4D SEDAN SE' '4D SEDAN SEL'\n",
            " 'REG CAB 4.3L' 'REG CAB 4.2L XL' 'MINIVAN 3.3L' 'MINIVAN 3.8L' '2D COUPE'\n",
            " '4D SUV 4.2L' '4D CUV 2.2L' '4D UTILITY 4.2L SLE' '2D COUPE SS'\n",
            " 'PASSENGER 3.4L' '4D SUV 2.2L LS' '4D SEDAN LS PREMIUM' '4D SUV 5.7L SLT'\n",
            " 'MINIVAN 3.8L SXT' '4D UTILITY 5.3L FFV LS' '2D SUV 4.0L SPORT'\n",
            " '4D SUV-PICKUP 5.3L' 'PASSENGER 3.8L LX' 'PASSENGER 3.9L LX'\n",
            " '4D WAGON SXT' '4D SEDAN 1.8' '4D SPORT TOURER' '4D SEDAN LS 3.5L FFV'\n",
            " 'QUAD CAB 5.7L' '4D SPORT UTILITY' '4D SEDAN CE' '4D SEDAN GT'\n",
            " 'QUAD CAB 4.7L' '4D SEDAN LEVEL 2' '4D SUV 4.7L' '4D SUV 4.7L ADVENTURER'\n",
            " '4D SEDAN GLS' '4D SPORT UTILITY SPORT EDITION' '4D SEDAN GXP'\n",
            " '4D WAGON SPORT' '4D SUV' 'QUAD CAB 3.7L ST' '4D SUV 5.3L' '4D SEDAN LS'\n",
            " '4D SUV 4.6L XLT' '4D SUV 4.7L ST' '4D SPORT UTILITY EX' '4D SUV 2.2L LT'\n",
            " '4D SEDAN SES' '4D CUV 3.0L SEL' 'CREW CAB 5.4L KING RANCH'\n",
            " '4D SUV 4.2L LS' '4D SUV HARDTOP 2.5L LT' 'QUAD CAB 5.7L SLT'\n",
            " '4D SUV 3.7L' '4D SUV 4.6L XLS' 'QUAD CAB 4.7L FFV BIG HORN'\n",
            " '4D SEDAN GL1' 'MINIVAN 3.3L LX' '4D SEDAN LE' 'WAGON 2.7L' '4D SUV LS'\n",
            " '4D SUV SPORT' '4D SEDAN LEVEL 1' '4D CUV 3.0L SE' '4D SEDAN L200'\n",
            " '4D SUV LIMITED' '4D WAGON' '5D SEDAN GS' '4D SUV 4.6L EDDIE BAUER'\n",
            " '4D SUV 5.4L EDDIE BAUER' 'REG CAB 3.7L' '4D MINIVAN EXT 3.4L GLS'\n",
            " '4D CUV 3.0L XLT' '4D SEDAN LEVEL 3' '2D EXT CAB 3.0L EDGE'\n",
            " '4D WAGON ZTW' '2D COUPE LS' '4D SUV 4.7L SLT' 'PASSENGER EXT 3.5L'\n",
            " 'EXT CAB 4.8L' '4D SUV 4.0L FFV XLT' '4D SPORT UTILITY LS'\n",
            " '4D SEDAN SEL FFV' '4D SEDAN SE FFV' 'WAGON 3.5L' '4D SPORT TOURING'\n",
            " '4D SEDAN ZX4 SE' '4D SEDAN GL' '4D SEDAN LT 3.5L' '4D CUV' '4D SEDAN S'\n",
            " 'EXT CAB 3.7L' 'PASSENGER EXT 3.5L LS' 'REG CAB 3.0L EDGE'\n",
            " 'MINIVAN 3.3L FFV SPORT' '4D SPORT UTILITY I' '4D SUV CX'\n",
            " '4D SEDAN LT 3.5L FFV' 'REG CAB 4.2L STX' '4D SEDAN SE1' '4D WAGON SE'\n",
            " '4D SEDAN LX AUTO' '4D CUV 2.3L XLS' '2D COUPE SE' '4D SEDAN ZX4'\n",
            " 'REG CAB 2.8L' '4D CUV 2.7L' '4D WAGON LAREDO' '4D SEDAN SE COMFORT'\n",
            " '4D SEDAN LX' 'MINIVAN 3.3L SPORT' '4D SEDAN 2.7L SE' '4D SPORT'\n",
            " '4D SEDAN SXT' '4D SEDAN GS' '4D SUV HARDTOP 2.5L' '4D SEDAN LT'\n",
            " '4D SPORT UTILITY SE' '4D SEDAN XE' 'REG CAB 4.6L STX'\n",
            " '4D SPORT UTILITY S' 'EXT CAB 4.6L STX' '4D WAGON CX' '4D SUV RENEGADE'\n",
            " 'MINIVAN 3.3L SE' '4D SEDAN TOURING TURBO' '2D CONVERTIBLE LX'\n",
            " '4D SEDAN LTZ' 'PASSENGER 3.5L LS' '4D CUV 2.7L GLS' '4D SEDAN ZTS'\n",
            " '4D HATCHBACK S' '4D SUV 4.0L FFV XLS' 'MINIVAN 3.8L SPORT'\n",
            " '4D SUV 3.7L SLT' 'EXT CAB 4.6L FX2 SPORT' '4D SEDAN PKG1'\n",
            " '2D CONVERTIBLE GTC' '4D SEDAN LT 3.9L' 'MAZDA3 4D I SPORT'\n",
            " '4D PASSENGER 3.8L SE' '4D SEDAN GTP' '4D SEDAN LS SPORT'\n",
            " 'PASSENGER EXT 3.4L LS' '4D SUV 5.4L XLT' '4D SEDAN 2.7L'\n",
            " '4D SEDAN CLASSIC' '4D SUV 3.0L' '2D CONVERTIBLE TOURING'\n",
            " '4D SEDAN TOURING' 'SPORT UTILITY' '2D SPYDER GT' '4D SUV LT'\n",
            " '4D SEDAN LXI' 'PASSENGER EXT 3.4L' '4D SEDAN SE-R' 'MINIVAN 3.8L LXI'\n",
            " 'EXT CAB 5.3L LS' '4D SUV 4.8L LS' '4D SEDAN GT2' '4D SPORT UTILITY LX'\n",
            " '2D COUPE LT' '4D SUV 4.0L XLT' '2D COUPE EX AUTO' '4D CUV 3.0L XLS'\n",
            " '2D COUPE GS' '4D SEDAN EXECUTIVE' '4D SEDAN PREMIER' '4D SEDAN EX AUTO'\n",
            " '4D SUV 5.7L LIMITED' 'MINIVAN 2.4L' '4D SEDAN LIMITED' 'CREW CAB 5.3L'\n",
            " '4D SEDAN SL2' '4D PASSENGER 3.8L SEL' '4D SEDAN GXE' '4D SEDAN SE AUTO'\n",
            " '4D SEDAN ES HIGHLINE' '4D SUV 5.9L SLT' 'EXT CAB 5.3L' 'PASSENGER 3.9L'\n",
            " '4D SEDAN SL1' '4D SEDAN CUSTOM' 'QUAD CAB 3.7L' '4D SPORT UTILITY ES'\n",
            " '4D SEDAN LUXURY' 'REG CAB 2.2L FFV' '4D SEDAN SES DURATEC'\n",
            " 'CREW CAB 4.6L XLT' '4D SEDAN DE' '4D SEDAN GL2' '4D SUV 5.3L FFV LS'\n",
            " '4D SEDAN 1.8S' '2D COUPE SE AUTO' '4D SEDAN 3.5L' '2D HATCKBACK SI 5SP'\n",
            " 'WAGON 3.5L SXT' '4D SEDAN CX' '2D QUAD COUPE LEVEL 3' '4D SEDAN GLE'\n",
            " '2D CONVERTIBLE' '4D SEDAN 3.5L SE' 'MINIVAN 3.3L SXT'\n",
            " '4D SPORT UTILITY 2.5X' '4D SPORT UTILITY XE' 'EXT CAB 4.7L SLT'\n",
            " '2D COUPE GT1' '2D CONVERTIBLE SE' '4D MINIVAN EXT 3.4L'\n",
            " '4D HATCHBACK GS' '4D SUV 5.3L LS' 'EXT CAB 4.3L' '4D UTILITY 4.2L'\n",
            " 'MINIVAN 3.8L EX' '4D SEDAN XR' 'REG CAB 2.3L EDGE'\n",
            " '4D SEDAN LT 3.8L FFV' '2D COUPE GT' '2D CONVERTIBLE DREAM CRUISER'\n",
            " '4D PASSENGER 3.9L SES' '2D COUPE SVT' 'MINIVAN 3.3L FFV SE'\n",
            " '4D CUV 3.0L LIMITED' '4D SUV 4.0L' 'QUAD CAB 4.7L SPORT' '2D COUPE GLS'\n",
            " '4D WAGON LW300' 'REG CAB 3.9L' '4D SEDAN LS CLASSIC'\n",
            " 'EXT MINIVAN 3.3L LX' 'EXT CAB 5.4L XL' '4D SUV 4.0L XLS'\n",
            " '2D QUAD COUPE LEVEL 2' 'PASSENGER 3.9L SE' '2D COUPE GL2'\n",
            " '4D HARDTOP EX' '4D SUV 4.8L' 'EXT CAB 5.3L SLE' 'EXT CAB 4.8L LS'\n",
            " 'EXT CAB 4.6L XLT' 'CREW CAB 5.6L SE' '4D SUV 2.2L 1LT'\n",
            " '4D MINIVAN EXT 3.5L' '4D SEDAN LS 3.5L' '2D COUPE SXT' '4D SUV 4.2L LT'\n",
            " '4D WAGON LX' 'REG CAB 4.7L SLT' '4D WAGON GT' 'CARGO EXT 3.9L'\n",
            " '4D SEDAN VALUE' 'EXT CAB 5.6L' '2D COUPE GTP' 'EXT CAB 5.4L XLT'\n",
            " 'REG CAB 4.7L' '2D COUPE GL' '4D CUV 3.0L' 'UTILITY'\n",
            " '4D SEDAN LIMITED AWD' '4D SEDAN GT1' '4D CUV GLS' '4D SUV HARDTOP 2.0L'\n",
            " 'MINIVAN 2.4L SE' 'QUAD CAB 3.9L SLT' 'EXT CAB 3.9L'\n",
            " 'EXT CAB 5.4L LARIAT' '4D WAGON LS PREMIUM' '4D SEDAN CARTIER'\n",
            " 'EXT CAB 4.7L LIMITED' 'MINIVAN 3.8L EL' '4D WAGON SEL DURATEC'\n",
            " '4D SPORT UTILITY 5 PASS' 'EXT CAB 2.4L XE' 'EXT CAB 3.5L LS' 'WAGON ES'\n",
            " 'MINIVAN 3.3L LX POPULAR' '4D WAGON LIMITED' '4D CUV DLX'\n",
            " 'REG CAB 5.7L ST' '4D SEDAN SPECIAL' 'REG CAB 4.6L XLT' '4D SEDAN CXL'\n",
            " '4D SEDAN SE SVG' '4D SUV 4.0L SPORT TRAC' 'PASSENGER 3.4L VALUE'\n",
            " 'CREW CAB 5.4L HARLEY DAVIDSON' '4D CUV 2.0L XLS' '4D SPORTBACK LS'\n",
            " 'MINIVAN 3.3L EL' 'REG CAB 2.4L' '2D SUV 4.0L SPORT XLS' '4D WAGON LW200'\n",
            " '4D SPORT UTILITY XLS' '2D SEDAN' 'PASSENGER 3.8L' 'REG CAB 3.5L LS'\n",
            " '4D SUV 4.7L SPORT' '4D EXT CAB 3.0L FFV XLT' '4D CUV 3.5L'\n",
            " 'MINIVAN 2.4L LX' 'PASSENGER 3.9L SEL' 'REG CAB 2.3L' '4D SEDAN L300'\n",
            " '4D MINIVAN 3.4L' '4D SUV 3.7L SXT' '4D SUV CXL'\n",
            " '4D SEDAN SE COMFORT DURATEC' 'WAGON R/T' '4D SEDAN ZX4 SES'\n",
            " 'QUAD CAB 3.7L SLT' '4D SEDAN 3.5L AWD' 'REG CAB 4.8L LS' '4D SEDAN CXS'\n",
            " 'PASSENGER EXT 3.9L LS' 'QUAD CAB 3.7L SPORT' 'PASSENGER EXT 3.5L LT'\n",
            " '4D SUV 4.7L SXT' '4D SUV 5.7L' 'EXT CAB 4.3L LS' '4D SEDAN AWD SE'\n",
            " '4D SEDAN DX AUTO' '4D SEDAN LX 5SP' '4D SEDAN SE AWD' '4D WAGON CINCO'\n",
            " '4D SEDAN PREMIER AWD' 'EXT CAB 5.4L FX2 SPORT' 'QUAD CAB 5.7L BIG HORN'\n",
            " '4D SUV 4.7L FFV SXT' '4D UTILITY 5.3L SLE' '4D WAGON EX'\n",
            " 'PASSENGER 4.2L SE' 'CREW CAB 5.4L LARIAT' '4D SEDAN GT TURBO'\n",
            " '4D SPORT UTILITY LE' '2D COUPE LIMTED' '4D SEDAN RALLIART'\n",
            " 'REG CAB 3.7L ST' 'EXT CAB 3.0L EDGE' 'PASSENGER EXT 3.9L LT'\n",
            " '4D SUV 5.3L FFV' '4D UTILITY 5.3L LS' 'CREW CAB 5.3L SLE' 'REG CAB 5.3L'\n",
            " '4D UTILITY XUV 4.2L SLE' '4D UTILITY 5.3L SLT' '4D SUV 4.6L'\n",
            " '2D COUPE EX 5SP' '5D HATCHBACK I' 'EXT CAB 2.8L LS' 'REG CAB 3.7L SXT'\n",
            " '5D SEDAN S' '2D SPYDER GTS' '4D PASSENGER 4.2L LIMITED' '4D WAGON S'\n",
            " '4D SUV 3.0L PREMIER' '2D COUPE GL1' '4D CUV DELUXE'\n",
            " '4D SUV 5.7L HEMI SLT' '4D SEDAN ZX4 ST' '4D CROSSOVER SEL'\n",
            " 'REG CAB 6.0L' '4D SEDAN 2.4I' 'MINIVAN 3.8L LIMITED' '4D SEDAN SEL AWD'\n",
            " '4D WAGON R/T' '3D EXT CAB 2.2L' '4D HATCHBACK ZX5 S' '4D SEDAN AWD SEL'\n",
            " 'WAGON LX' '4D WAGON LS' '4D SEDAN XL' '4D SUV 4.0L EDDIE BAUER'\n",
            " 'EXT CAB 4.2L XL' '4D SUV 2.4L' 'EXT CAB 3.9L SLT'\n",
            " '4D SPORT UTILITY LIMITED FFV' 'REG CAB 2.2L' '4D SEDAN GTS'\n",
            " '4D SEDAN 2.5 S' 'QUAD CAB 4.7L ST' '2D EXT CAB 3.0L' '4D SUV 5.3L LT'\n",
            " 'QUAD CAB 5.9L SLT' 'EXT CAB 4.2L W/T' '4D SUV 3.0L LUXURY'\n",
            " 'REG CAB 4.8L' '4D SUV 2.2L' '2D HATCHBACK' '4D SEDAN 2.5 SL'\n",
            " '4D SPORT UTILITY XSPORT' '4D SEDAN DX' '4D HATCHBACK'\n",
            " '4D SEDAN SEL DURATEC' 'REG CAB 4.6L XL' 'QUAD CAB 5.9L SPORT'\n",
            " 'EXT CAB 6.0L' 'EXT CAB 5.6L LE' '4D UTILITY 5.3L FFV' '4D HARDTOP LX'\n",
            " 'CREW CAB 3.5L SL' 'EXT CAB 4.8L SLE' '4D SUV 2.3L CONVENIENCE'\n",
            " 'CREW CAB 6.0L LS' 'REG CAB 5.7L SLT' '4D UTILITY 4.8L SLE'\n",
            " 'REG CAB 5.4L XL' 'EXT CAB 4.0L LE' 'EXT CAB 8.1L LS' 'CREW CAB 4.3L LS'\n",
            " 'REG CAB 4.3L LS' 'EXT CAB 3.5L' 'REG CAB 4.3L SLE' 'PASSENGER 3.9L LS'\n",
            " 'CREW CAB 3.5L LS' 'CREW CAB 4.7L SR5' '4D SEDAN AUTO'\n",
            " 'CREW CAB 3.5L Z71' 'CREW CAB 5.6L' '4D SUV 4.7L SL' 'EXT CAB 2.8L'\n",
            " 'MINIVAN 3.8L ES' '4D SUV 5.7L HEMI LIMITED' '2D COUPE R/T'\n",
            " 'REG CAB 5.3L LS' '4D UTILITY 4.8L' 'REG CAB 3.5L SL'\n",
            " '4D WAGON LAREDO FFV' '4D SEDAN SS' 'CREW CAB 5.6L LE' 'CREW CAB 4.8L'\n",
            " '2D COUPE EX 6SP' '4D SEDAN HYBRID' '4D SEDAN GX' '4D SUV SPORT 2.4L'\n",
            " 'EXT CAB 3.7L SLT' 'MINIVAN EX-L' 'PASSENGER EXT 3.9L'\n",
            " 'MAZDA5 GRAND TOURING' '4D WAGON ZX5' '2D COUPE LX AUTO' '2D COUPE RS'\n",
            " '4D SEDAN LIMITED TURBO' '4D SUV 4.7L LIMITED' '2D COUPE LX'\n",
            " '4D SUV 5.4L' '3D EXT CAB 4.3L' 'REG CAB 4.7L FFV' '4D SEDAN R/T'\n",
            " '4D WAGON GS' '4D SPORT UTILITY 3.5L XLS' '4D SUV 4.0L FFV LIMITED'\n",
            " 'EXT CAB 5.3L SL' '4D UTILITY 4.8L SLT' '4D SUV 2.3L'\n",
            " 'ACCESS CAB 4.7L SR5' '4D SEDAN SLE' '5D HATCHBACK S' '4D SEDAN Z24'\n",
            " 'WAGON DX' '4D SEDAN AWD' '2D HATCHBACK ZX3' 'REG CAB 4.0L'\n",
            " '4D WAGON OVERLAND' '4D EXT CAB 3.0L EDGE' 'EXT CAB 6.0L LS'\n",
            " '4D MINIVAN 3.4L VALUE' '4D SEDAN EX AUTO NAVIGATION'\n",
            " '4D WAGON CONVENIENCE' '4D SPORT UTILITY DX' '4D SUV 4.7L FFV SLT'\n",
            " '4D HATCHBACK AWD' '4D UTILITY 6.0L DENALI' 'DOUBLE CAB 4.7L SR5'\n",
            " '4D SEDAN XRS' '3D COUPE SC2' '4D SEDAN FFV TOURING'\n",
            " '4D SEDAN GS 3.0L FFV' '4D UTILITY 5.3L' '4D WAGON GRAND TOURING'\n",
            " '4D CUV GL' '4D PASSENGER 3.8L SEL LIMITED' '4D PASSENGER 3.8L SE SPORT'\n",
            " 'EXT CAB 4.7L SR5' '2D COUPE AUTO' '2D COUPE LX 5SP' '5D SEDAN ZX5'\n",
            " 'CREW CAB 3.3L XE' '4D SPORT UTILITY XL7' '4D WAGON SE DURATEC'\n",
            " '4D SEDAN SIGNATURE' '4D SPORT UTILITY LIMITED' 'REG CAB 2.5L EDGE'\n",
            " 'QUAD CAB 4.7L FFV SLT' '3D COUPE SC1' '4D SPORT UTILITY 3.5L XS'\n",
            " 'REG CAB 2.2L SL' 'EXT CAB 2.2L LS' '4D SPORT UTILITY LEVEL 3'\n",
            " '2D HATCHBACK GS' 'EXT CAB 4.6L LARIAT' '4D SPORT UTILITY SL'\n",
            " 'CREW CAB 4.6L LARIAT' '4D SPORT UTILITY EX AUTO' '4D SEDAN HEMI'\n",
            " '4D WAGON SE COMFORT' 'EXT CAB 3.5L Z71 LS' '4D HATCHBACK ZX5'\n",
            " 'EXT CAB 3.7L SXT' '2D ROADSTER' '2D SPYDER GS' '4D SUV ULTRA'\n",
            " '4D PASSENGER 4.2L SEL' '2D HARTOP CONVERTIBLE GT' '4D SEDAN LS 3.6L'\n",
            " '4D SEDAN VALUE AUTO' '2D COUPE ZX2' '4D UTILITY 4.2L SLT'\n",
            " '4D SEDAN VP AUTO' '4D CUV 2.3L XLT' '4D SUV HARDTOP 2.5L ZR2'\n",
            " '5D SEDAN I' '2D COUPE GX' 'BASE' 'QUAD CAB 3.9L SPORT'\n",
            " 'REG CAB 4.2L W/T' '4D SUV 4.0L FFV EDDIE BAUER'\n",
            " 'DOUBLE CAB DURO CROSS 3.7L' '4D CUV 3.5L GLS' '4D SEDAN O-Z RALLY'\n",
            " 'EXT CAB 3.0L SE' '4D SEDAN 2.5L' 'EXT CAB 5.9L R/T'\n",
            " 'EXT CAB 4.7L FFV ST' 'CREW CAB 5.3L LS' 'PASSENGER EXT 3.4L WARNER BROS'\n",
            " '2D CONVERTIBLE GT' '4D WAGON ZXW' 'CREW CAB 4.0L LE'\n",
            " '4D SPORT UTILITY EX-P' '4D SUV LIMITED 2.4L' '4D SUV 5.7L HEMI'\n",
            " '4D SPORT UTILITY SR5' '2D EXT CAB 2.3L XL' 'EXT CAB 3.9L SXT'\n",
            " 'EXT CAB 4.3L SL' 'REG CAB 4.0L XL' '4D SPORT UTILITY PREMIUM'\n",
            " '4D SEDAN SVT' '4D SEDAN ZX5' '4D SEDAN 6SP' '4D WAGON OUTBACK'\n",
            " '4D SPORT UTILITY LX AUTO' '4D UTILITY 5.3L LT' '4D UTILITY 5.3L FFV LT'\n",
            " '2D COUPE GT PREMIUM' 'EXT CAB 4.2L XLT' '2D COUPE LXI'\n",
            " 'REG CAB 5.4L XLT' '4D UTILITY 6.0L' 'REG CAB 5.3L SLE'\n",
            " 'EXT CAB 2.2L FFV' 'REG CAB 5.7L HEMI' 'REG CAB 2.2L FFV SL'\n",
            " 'QUAD CAB 4.7L FFV' 'REG CAB 4.0L EDGE' 'QUAD CAB 4.7L LARAMIE'\n",
            " '4D SUV 2.4L LT' 'QUAD CAB 5.7L LARAMIE' 'MINIVAN 3.3L CARGO'\n",
            " 'EXT CAB 4.3L SLE' 'EXT CAB 5.4L KING RANCH' 'MINIVAN 2.4L EC'\n",
            " '4D EXT CAB 4.0L EDGE' 'WAGON 2.7L SE' '2D COUPE DX 5SP'\n",
            " '2D COUPE DX AUTO' '4D SEDAN 1LT' '4D SEDAN SE2'\n",
            " '4D SPORT UTILITY TOURING' '4D SUV-PICKUP 5.3L Z66'\n",
            " 'EXT CAB 5.4L HERITAGE' 'EXT CAB 3.4L SR5' '2D COUPE Z24'\n",
            " 'CREW CAB 2.8L LS' '4D SEDAN EX 5SP' '4D SUV HARDTOP 2.2L LT'\n",
            " 'QUAD CAB 5.9L' 'EXT CAB 2.9L LS' 'CREW CAB 4.0L SE' 'CREW CAB 4.8L LS'\n",
            " '4D SPORT UTILITY OFF-ROAD' 'MINIVAN 3.3L FFV SXT' '4D SEDAN TYPE S'\n",
            " 'EXT CAB 3.4L PRERUNNER SR5' '2D LIFTBACK GT' 'EXT CAB 5.4L FX4'\n",
            " '4D CUV 3.6L XE' '2D HATCHBACK S' 'EXT CAB 5.4L FFV FX4'\n",
            " '4D SPORT UTILITY TOURING NAV' '2D CONVERTIBLE LIMITED'\n",
            " 'QUAD CAB 4.7L BIG HORN' '4D SEDAN 2.5T' 'REG CAB 3.9L SXT'\n",
            " '4D SUV 4.6L LIMITED' 'MINIVAN 3.8L TOURING' 'REG CAB 3.0L XL'\n",
            " 'EXT CAB 5.3L LT Z71' '2D CONVERTIBLE SLE' 'REG CAB 4.2L XLT'\n",
            " '4D SUV 4.0L PREMIER' '2D CONVERTIBLE GLS' '2D COUPE SE1'\n",
            " '4D HATCHBACK ZX5 SE' '4D SEDAN L AWD' 'EXT CAB 2.4L LE'\n",
            " '4D WAGON OUTBACK SPORT' 'REG CAB 4.6L W/T' '4D SEDAN 2.5I'\n",
            " 'EXT CAB 2.4L SE' 'REG CAB 5.7L' '2D EXT CAB 3.0L DUAL SPORT FFV'\n",
            " 'EXT CAB 2.5L' 'EXT CAB 5.6L SE' '4D MINIVAN EXT 3.4L GL'\n",
            " 'PASSENGER EXT 3.4L LT' '4D SEDAN LS FFV' '4D SUV 5.3L FFV LT'\n",
            " '4D SUV 3.7L ST' '4D SEDAN SX' 'EXT CAB 5.6L XE' '4D EXT CAB 3.0L XLT'\n",
            " '4D HATCHBACK ZX5 SES' '4D SEDAN XLE' 'CREW CAB 3.5L SLE'\n",
            " '2D EXT CAB 3.0L XLT' '4D SUV 4.2L LTZ' '4D WAGON SX'\n",
            " 'CREW CAB 5.4L FFV FX4' 'EXT CAB 5.3L LT' 'QUAD CAB 3.7L SXT'\n",
            " 'CREW CAB 5.6L XE' 'REG CAB 3.0L SPORT' '4D SUV SPORT 2.0L'\n",
            " '4D SUV 2.2L PANEL SS' '4D SEDAN SL' '4D SPORT UTILITY X'\n",
            " 'QUAD CAB 4.7L SLT FFV' 'EXT CAB 4.0L EDGE' 'REG CAB 2.5L'\n",
            " 'CREW CAB 6.0L SLT' 'QUAD CAB 4.7L FFV LONESTAR' 'CREW CAB 5.4L XLT'\n",
            " '2D COUPE TYPE S' '4D SUV 5.9L R/T' '4D SPORT UTILITY HYBRID LIMITED'\n",
            " '4D SEDAN OZ' '4D SUV 5.4L XLS' 'CREW CAB 6.0L LT'\n",
            " 'CREW CAB 4.7L LIMITED' '2D CONVERTIBLE LXI' '4D SEDAN PKG2'\n",
            " '2D HATCHBACK GT' 'MINIVAN 3.3' '2D SPORT UTILITY'\n",
            " 'PASSENGER EXT 3.4L ENTERTAINER' '4D SEDAN 2.5L GLS'\n",
            " '4D SEDAN NAVIGATION' 'MINIVAN LX' 'REG CAB 4.3L SL' '4D SEDAN 2.5 SE'\n",
            " '4D SEDAN AWD 3.5L' '2D COUPE ZX3 S' nan 'CREW CAB 6.0L' '5D MINIVAN LE'\n",
            " '4D SUV 3.7L SE' 'JEEP X' '2D COUPE 5SP' 'REG CAB 2.3L XLT' 'WAGON 4D'\n",
            " '4D WAGON CLASSIC' '2D EXT CAB 3.0L SE' 'EXT CAB 4.7L ST' 'CREW CAB 2.8L'\n",
            " '4D SUV-PICKUP 8.1L' 'EXT CAB 5.4L HARLEY DAVIDSON' 'REG CAB 2.9L LS'\n",
            " 'REG CAB 2.5L XLT' '4D WAGON SL' 'REG CAB 2.3L XL' '4D CUV 2.2L XE'\n",
            " '2D EXT CAB 3.0L DUAL SPORT' 'REG CAB 4.8L SL' '2D SUV CONVERTIBLE 2.0L'\n",
            " 'EXT CAB 4.6L HERITAGE XL' '4D EXT CAB 4.0L FX4'\n",
            " 'CREW CAB 4.6L KING RANCH' '2D SEDAN GX' 'DOUBLE CAB LS 3.7L'\n",
            " '4D SEDAN LUXURY AWD' 'EXT CAB 4.7L' 'EXT CAB 4.6L LARIAT FX4 OFF-RD'\n",
            " '4D WAGON LUXURY' '4D WAGON 2.5I' '4D EXT CAB 4.0L XL'\n",
            " '2D EXT CAB 4.0L XL' '4D SEDAN TURBO' 'CREW CAB 3.4L PRERUNNER'\n",
            " 'EXT CAB 2.4L' 'CREW CAB 3.3L' 'ACCESS CAB 4.0L SR5' '4D SEDAN SPORT'\n",
            " '4D SEDAN VP 5SP' 'REG CAB 5.4L W/T' '4D WAGON 2.4L' 'CREW CAB 5.3L LT'\n",
            " 'CARGO EXT 3.5L LT' '4D WAGON SE FFV' '4D SEDAN MAZDASPEED'\n",
            " 'EXT CAB 3.0L XLT' '4D SEDAN TYPE S NAVIGATION' 'REG CAB 5.4L FX4'\n",
            " '4D UTILITY DENALI 6.0L' 'REG CAB 3.4L' 'REG CAB 3.0L XLT'\n",
            " 'EXT CAB 4.0L XLT' 'EXT CAB 4.0L NISMO' 'MINIVAN 3.8L LX'\n",
            " '4D WAGON LIMITED HEMI' '2D COUPE ZX5 S' 'CREW CAB 3.5L'\n",
            " 'CREW CAB 5.4L FX4' 'REG CAB 4.8L SLE' 'MEGA CAB 5.7L' 'EXT CAB 6.0L SLE'\n",
            " 'CREW CAB 3.3L SE' '2D COUPE DX VALUE PACKAGE AUTO'\n",
            " '4D SUV 4.7L FFV LIMITED' '4D WAGON L' 'CREW CAB 5.4L FX2 SPORT'\n",
            " '4D WAGON SE COMFORT DURATEC' '4D SPORT UTILITY TOURING NAV DVD'\n",
            " '4D SPORT UTILITY BASE' 'EXT CAB 4.6L XL' '4D SUV 5.3L FFV Z71'\n",
            " '2D CONVERTIBLE GL' '2D EXT CAB 4.0L EDGE' 'EXT CAB 3.3L XE'\n",
            " '4D WAGON R/T AWD' '4D SEDAN XLS' '4D SEDAN LT CLASSIC'\n",
            " '4D SEDAN 3.5L SXT' '4D SEDAN CARTIER L' 'EXT CAB LS 3.7L' '4D SEDAN T5'\n",
            " 'PASSENGER 3.9L LIMITED' 'REG CAB 6.0L LS' '4D UTILITY XUV 5.3L SLE'\n",
            " '4D SUV 4.0L CONVENIENCE' 'EXT CAB LS SPECIAL 3.7L' '4D HARDTOP JLS'\n",
            " '4D SPORT UTILITY 4XMOTION' '4D EXT CAB 3.0L'\n",
            " 'REG CAB 2.7L PRERUNNER SR5' 'EXT CAB 3.9L BASE' 'REG CAB 2.3L STX'\n",
            " 'MEGA CAB 5.7L SLT' 'REG CAB 2.7L' '4D SPORT UTILITY JS'\n",
            " 'MINIVAN 3.3L LXI' 'REG CAB 5.9L SLT' '4D CUV 2.0L XLT'\n",
            " '4D SEDAN 2.5L PKG 2' 'REG CAB 4.7L ST' '4D SEDAN VALUE PACKAGE AUTO'\n",
            " '2D COUPE GTS' '4D CROSSOVER SE' 'CREW CAB LIMITED' 'CARGO 3.9L'\n",
            " 'REG CAB 5.2L LARAMIE' '4D SPORT UTILITY SXT' 'EXT CAB 3.9L SPORT'\n",
            " '4D CROSSOVER SEL PLUS' '4D SUV 5.9L SXT' '4D SUV 4.0L LIMITED'\n",
            " 'CREW CAB 5.4L XL' '4D SEDAN ZX4 S' 'REG CAB 3.9L SPORT' 'JEEP SPORT'\n",
            " '4D WAGON FREEDOM' '4D SUV 4.7L SLT PLUS' '4D SEDAN 3.5L AWD SXT'\n",
            " '4D SEDAN 2.0L GLS' '4D SUV HARDTOP 2.2L ZR2' 'WAGON SXT AWD'\n",
            " '4D SUV 4.8L LT' '4D WAGON 1.8L' 'REG CAB 2.8L LS' '4D WAGON SEL'\n",
            " '4D SUV 6.2L LUXURY' '2D COUPE LTZ' '4D UTILITY 5.3L FFV Z71'\n",
            " '4D WAGON CXL' '4D SPORT UTILITY GRAND TOURING A' 'REG CAB 3.7L SLT'\n",
            " 'REG CAB 4.3L W/T' '4D WAGON LL BEAN' 'SPORT UTILITY 7 PASSENGER'\n",
            " '4D SEDAN 2.5RS' '2D EXT CAB 3.0L XL' '3D EXT CAB 2.2L FFV'\n",
            " '2D SUV 4.0L SPORT XLT' 'MAZDA3 4D I TOURING VALUE' '4D SPORT WAGON 2.5I'\n",
            " '4D SEDAN HYBRID AUTO' 'DOUBLE CAB LS SPECIAL 3.7L' '4D SUV 5.3L XLT'\n",
            " '4D WAGON ROCKY MOUNTAIN EDITION' '4D SUV 2.5L PREMIER'\n",
            " '4D SUV 2.2L PANEL LS' '4D SPORT UTILITY LUXURY'\n",
            " 'EXT CAB DURO CROSS 3.7L' 'PASSENGER 3.4L LS' '4D SEDAN SIGNATURE LTD'\n",
            " 'CREW CAB 3.5L Z71 LS' '4D SUV 2.4L LUXURY' '2D EXT CAB 2.3L EDGE'\n",
            " '4D EXT CAB 3.0L XL' '4D SEDAN 2.7L SXT' '4D SPORT UTILITY JLX'\n",
            " '4D SUV 6.0L LS' '5D MINIVAN CE' 'EXT CAB 4D 5.2L LARAMIE SLT'\n",
            " '4D SEDAN 2.0L GL' 'MAZDA3 4D I' '2D COUPE TYPE S NAVIGATION AUTO'\n",
            " '4D SUV 4.0L LUXURY' '2D ROADSTER GXP' '4D SPORT UTILITY SE SUPERCHARGED'\n",
            " '4D SUV 4.0L SPORT TRAC FFV XLS' 'MINIVAN EX' '4D EXT CAB 4.0L XLT'\n",
            " 'EXT CAB 4.3L W/T' 'CREW CAB 2.9L LT' 'EXT CAB 4D 5.9L LARAMIE SLT'\n",
            " 'EXT CAB 3.5L SLE' '4D SUV 5.9L SLT PLUS' 'EXT CAB 3.7L ST'\n",
            " 'REG CAB 3.7L LS' 'CREW CAB 5.7L LIMITED' '4D SUV 5.9L SPORT'\n",
            " '2D COUPE ZX3 SES' 'REG CAB 3.5L Z71' '5D SEDAN S GRAND TOURING'\n",
            " '4D SEDAN 35TH ANNIVERSARY AWD' 'REG CAB 3.7L STAMPEDE' 'EXT CAB 4.0L SE'\n",
            " 'MINIVAN 3.3L FFV EL']\n",
            "------------------------------\n",
            "Color\n",
            "['RED' 'WHITE' 'MAROON' 'SILVER' 'BLACK' 'GOLD' 'GREY' 'BLUE' 'BEIGE'\n",
            " 'PURPLE' 'ORANGE' 'GREEN' 'BROWN' 'YELLOW' 'NOT AVAIL' 'OTHER' nan]\n",
            "------------------------------\n",
            "Transmission\n",
            "['AUTO' 'MANUAL' nan 'Manual']\n",
            "------------------------------\n",
            "WheelTypeID\n",
            "[ 1.  2. nan  3.  0.]\n",
            "------------------------------\n",
            "WheelType\n",
            "['Alloy' 'Covers' nan 'Special']\n",
            "------------------------------\n",
            "VehOdo\n",
            "[89046 93593 73807 ... 65399 45234 66855]\n",
            "------------------------------\n",
            "Nationality\n",
            "['OTHER ASIAN' 'AMERICAN' 'TOP LINE ASIAN' 'OTHER' nan]\n",
            "------------------------------\n",
            "Size\n",
            "['MEDIUM' 'LARGE TRUCK' 'COMPACT' 'LARGE' 'VAN' 'MEDIUM SUV' 'LARGE SUV'\n",
            " 'SPECIALTY' 'SPORTS' 'CROSSOVER' 'SMALL SUV' 'SMALL TRUCK' nan]\n",
            "------------------------------\n",
            "TopThreeAmericanName\n",
            "['OTHER' 'CHRYSLER' 'FORD' 'GM' nan]\n",
            "------------------------------\n",
            "MMRAcquisitionAuctionAveragePrice\n",
            "[ 8155.  6854.  3202. ... 10622.  1449.  9842.]\n",
            "------------------------------\n",
            "MMRAcquisitionAuctionCleanPrice\n",
            "[ 9829.  8383.  4760. ... 12571.  2219. 13568.]\n",
            "------------------------------\n",
            "MMRAcquisitionRetailAveragePrice\n",
            "[11636. 10897.  6943. ...  2606. 12161.  2065.]\n",
            "------------------------------\n",
            "MMRAcquisitonRetailCleanPrice\n",
            "[13600. 12572.  8457. ...  2897.  3602.  4937.]\n",
            "------------------------------\n",
            "MMRCurrentAuctionAveragePrice\n",
            "[ 7451.  7456.  4035. ...  1782.  9778. 13646.]\n",
            "------------------------------\n",
            "MMRCurrentAuctionCleanPrice\n",
            "[ 8552.  9222.  5557. ... 13262. 11424. 15015.]\n",
            "------------------------------\n",
            "MMRCurrentRetailAveragePrice\n",
            "[11597. 11374.  7146. ...  2425. 13591. 17619.]\n",
            "------------------------------\n",
            "MMRCurrentRetailCleanPrice\n",
            "[12409. 12791.  8702. ... 17702. 19161. 14402.]\n",
            "------------------------------\n",
            "PRIMEUNIT\n",
            "[nan 'NO' 'YES']\n",
            "------------------------------\n",
            "AUCGUART\n",
            "[nan 'GREEN' 'RED']\n",
            "------------------------------\n",
            "BYRNO\n",
            "[21973 19638  5546 19619 20928 19064 20740 17675 99740 52117 22916  1231\n",
            " 20207  1235 17212 20833  8655 19662 22808  3453 21047 20392 25100  1045\n",
            " 18881 10315 18111 11410 16044  1141 52646  8172 52492 52598  1125 18880\n",
            " 52644 10430 18822 53245  1085  1082   835 20234 21053 99750 99761  1031\n",
            " 99741  1035  1191  1152 23359  1151  1051 23657 16926  1121 11210  1086\n",
            "  1055  1041 10420 10310  1081  1156  1157 16369  3582 10510 99760 10425\n",
            " 10410 18091]\n",
            "------------------------------\n",
            "VNZIP1\n",
            "[33619 20166 50111 72117 55369 38118 17406 16137 34203 45005 35004 48265\n",
            " 75061 78610 60440 60445  2764 77301 85040 30272 37138 27542 21075 94544\n",
            " 21014 77041 79605 84104 95673 97060 75020 92807 29697 32824 29461 76101\n",
            " 37421 80022 43207 85018 75236 76040 83716 97402 89506 85248 16066 29532\n",
            " 25177 32124 76063 35613 38637 80229 75050 73108 85009 80011 74135 79932\n",
            " 85284 32812 89139 27407 91763 78745 80112 32225 87109 70002 77073 25071\n",
            " 45011 38128 32750 34761 90045 22403 46803 30331 30529 60443 89120 89165\n",
            " 70460 85353 22801 19440 64161 99224 64153 17028 91770 33809 33314 85260\n",
            " 70401 47129 17545 30315 83687 87105 32503 78219 29323  3106 39402 26431\n",
            " 37122  8505 12552 92101 85338 90650 73129 68138 85204 97217 33073 23606\n",
            " 30120 42104 29070 39208 23234 92504 92057 46239 62207 71119 77086 78754\n",
            " 32772 33311 98064 92337 37771 91752 33916 78426 33762 63044 28625 85226\n",
            " 37210 28273 77061 84087 33411 80817 32219 78227 30212]\n",
            "------------------------------\n",
            "VNST\n",
            "['FL' 'VA' 'IA' 'AR' 'MN' 'TN' 'PA' 'OH' 'AL' 'MI' 'TX' 'IL' 'MA' 'AZ'\n",
            " 'GA' 'NC' 'MD' 'CA' 'UT' 'OR' 'SC' 'CO' 'ID' 'NV' 'WV' 'MS' 'OK' 'NM'\n",
            " 'LA' 'IN' 'MO' 'WA' 'NH' 'NJ' 'NY' 'NE' 'KY']\n",
            "------------------------------\n",
            "VehBCost\n",
            "[ 7100.  7600.  4900. ... 11580. 11945.  3205.]\n",
            "------------------------------\n",
            "IsOnlineSale\n",
            "[0 1]\n",
            "------------------------------\n",
            "WarrantyCost\n",
            "[1113 1053 1389  630 1020  594  533  825  482 1633 1373  869 1623  686\n",
            " 1455 1243 1923 1703 1551 2003 5613  671  728  754 2452  920 1411 1763\n",
            " 1220 1272 2322 1506  971 1215 2152  569 1155 1003 1283  623  723 1086\n",
            " 1503 1103 1209 1974 1641  462  803  983 2063  588 1137  986 1413 1583\n",
            " 1169  853 1134  975 1028 1118 1038 1806 1341 1313 1469 1125 1320  505\n",
            " 1497 1223  834 5392 1930 1153  582 1774  923  693 1800 1689 2074 1398\n",
            " 2274 2712 1485 1500 1673 2651  930 1740 1543 2218 4032 1275 1630 1508\n",
            " 1054  837 2351  702  620  905 1197 1353 2157  894  822  764  805 2282\n",
            " 1450 1251 1046 1769 2495 1065 1290 1216  833 3115  909 1906 6519 1803\n",
            "  782 1666 2040 3676 1515  993 2198 2506 1023 1606 2022 1481 3667 1628\n",
            " 1711 1857  765 1918  882 3276 3265 3910 1717 2193 2062 1893 5092 2939\n",
            " 2208 2412 2172 1801  553 1610 1750 3191 6192 2070 2508 6492 2711 1933\n",
            "  650 1130 2390 1572 2639  762 2091 2206 1634 1116 1334 2499 1386 1338\n",
            "  522 1613 3967 1062 4922 2391 2362 4210 5913  942 4622 2700 1328  642\n",
            " 1418 1416 3035 1421  950 2571 2836 1181 3222 2735 1898 1417 1257  970\n",
            " 2230 2090 4332 2799 1430 1770 1182  888 4437 3376 1785 1301 2838 1808\n",
            " 1346 1698 2871 1121 1187 1966 1241 1557 2795 2647 2998 2538  810  941\n",
            " 1303 4982 1601 6208 2891 1001 1270 2441 1064 2101 2731 2141 1122 2976\n",
            " 3415 2582 1205 5908 1061 1590 2922 2251 1749 2815 3298 1694 1110  683\n",
            " 4737 1944 3000 6819 1487 3565 7498 4241 1931 1361 2937 1644 1571 1872\n",
            " 7198]\n",
            "------------------------------\n",
            "time: 149 ms (started: 2021-08-13 14:44:36 +00:00)\n"
          ],
          "name": "stdout"
        }
      ]
    },
    {
      "cell_type": "code",
      "metadata": {
        "id": "OIyJmPpZUK5Y",
        "colab": {
          "base_uri": "https://localhost:8080/"
        },
        "outputId": "579a9c3d-5a33-4c06-92a3-74931b06fd19"
      },
      "source": [
        "# List of columns to drop\n",
        "# These columns are selected by going through the \"Carvana_Data_Dictionary.txt\" file included\n",
        "drop_cols = ['RefId','VehYear', 'PurchDate', 'Model', 'Trim', 'SubModel', 'WheelTypeID', 'MMRAcquisitionAuctionAveragePrice',\n",
        "'MMRAcquisitionAuctionCleanPrice','MMRAcquisitionRetailAveragePrice','MMRAcquisitonRetailCleanPrice',\n",
        "'MMRCurrentAuctionAveragePrice','MMRCurrentAuctionCleanPrice','MMRCurrentRetailAveragePrice','MMRCurrentRetailCleanPrice']"
      ],
      "execution_count": 80,
      "outputs": [
        {
          "output_type": "stream",
          "text": [
            "time: 2.14 ms (started: 2021-08-13 14:44:36 +00:00)\n"
          ],
          "name": "stdout"
        }
      ]
    },
    {
      "cell_type": "code",
      "metadata": {
        "id": "j6QWKv8zWg1Z",
        "colab": {
          "base_uri": "https://localhost:8080/"
        },
        "outputId": "98ea1cf7-2af8-4129-8356-3b9103002804"
      },
      "source": [
        "# Dropping the columns\n",
        "data = data.drop(columns=drop_cols, axis=1)\n",
        "data = data.drop(columns = ['PRIMEUNIT', 'AUCGUART']) # Dropping these columns because most of the data in the columns are null"
      ],
      "execution_count": 81,
      "outputs": [
        {
          "output_type": "stream",
          "text": [
            "time: 22.9 ms (started: 2021-08-13 14:44:36 +00:00)\n"
          ],
          "name": "stdout"
        }
      ]
    },
    {
      "cell_type": "code",
      "metadata": {
        "colab": {
          "base_uri": "https://localhost:8080/"
        },
        "id": "ShDuzJNPU-mv",
        "outputId": "16ef1706-be98-4bab-9aa4-96b4e5d10f20"
      },
      "source": [
        "# Updated column list\n",
        "columns_updated = data.columns\n",
        "print(\"For training: \", columns_updated)"
      ],
      "execution_count": 82,
      "outputs": [
        {
          "output_type": "stream",
          "text": [
            "For training:  Index(['IsBadBuy', 'Auction', 'VehicleAge', 'Make', 'Color', 'Transmission',\n",
            "       'WheelType', 'VehOdo', 'Nationality', 'Size', 'TopThreeAmericanName',\n",
            "       'BYRNO', 'VNZIP1', 'VNST', 'VehBCost', 'IsOnlineSale', 'WarrantyCost'],\n",
            "      dtype='object')\n",
            "time: 5.62 ms (started: 2021-08-13 14:44:36 +00:00)\n"
          ],
          "name": "stdout"
        }
      ]
    },
    {
      "cell_type": "code",
      "metadata": {
        "colab": {
          "base_uri": "https://localhost:8080/",
          "height": 134
        },
        "id": "SbineVPOo4B9",
        "outputId": "cd1499e8-4777-49b9-9f5f-adc6b9196566"
      },
      "source": [
        "data[data['Make']=='TOYOTA SCION']"
      ],
      "execution_count": 83,
      "outputs": [
        {
          "output_type": "execute_result",
          "data": {
            "text/html": [
              "<div>\n",
              "<style scoped>\n",
              "    .dataframe tbody tr th:only-of-type {\n",
              "        vertical-align: middle;\n",
              "    }\n",
              "\n",
              "    .dataframe tbody tr th {\n",
              "        vertical-align: top;\n",
              "    }\n",
              "\n",
              "    .dataframe thead th {\n",
              "        text-align: right;\n",
              "    }\n",
              "</style>\n",
              "<table border=\"1\" class=\"dataframe\">\n",
              "  <thead>\n",
              "    <tr style=\"text-align: right;\">\n",
              "      <th></th>\n",
              "      <th>IsBadBuy</th>\n",
              "      <th>Auction</th>\n",
              "      <th>VehicleAge</th>\n",
              "      <th>Make</th>\n",
              "      <th>Color</th>\n",
              "      <th>Transmission</th>\n",
              "      <th>WheelType</th>\n",
              "      <th>VehOdo</th>\n",
              "      <th>Nationality</th>\n",
              "      <th>Size</th>\n",
              "      <th>TopThreeAmericanName</th>\n",
              "      <th>BYRNO</th>\n",
              "      <th>VNZIP1</th>\n",
              "      <th>VNST</th>\n",
              "      <th>VehBCost</th>\n",
              "      <th>IsOnlineSale</th>\n",
              "      <th>WarrantyCost</th>\n",
              "    </tr>\n",
              "  </thead>\n",
              "  <tbody>\n",
              "    <tr>\n",
              "      <th>17854</th>\n",
              "      <td>0</td>\n",
              "      <td>OTHER</td>\n",
              "      <td>4</td>\n",
              "      <td>TOYOTA SCION</td>\n",
              "      <td>BLUE</td>\n",
              "      <td>AUTO</td>\n",
              "      <td>Alloy</td>\n",
              "      <td>86440</td>\n",
              "      <td>OTHER ASIAN</td>\n",
              "      <td>COMPACT</td>\n",
              "      <td>OTHER</td>\n",
              "      <td>3453</td>\n",
              "      <td>84104</td>\n",
              "      <td>UT</td>\n",
              "      <td>5560.0</td>\n",
              "      <td>0</td>\n",
              "      <td>594</td>\n",
              "    </tr>\n",
              "  </tbody>\n",
              "</table>\n",
              "</div>"
            ],
            "text/plain": [
              "       IsBadBuy Auction  VehicleAge  ... VehBCost IsOnlineSale WarrantyCost\n",
              "17854         0   OTHER           4  ...   5560.0            0          594\n",
              "\n",
              "[1 rows x 17 columns]"
            ]
          },
          "metadata": {
            "tags": []
          },
          "execution_count": 83
        },
        {
          "output_type": "stream",
          "text": [
            "time: 39.8 ms (started: 2021-08-13 14:44:36 +00:00)\n"
          ],
          "name": "stdout"
        }
      ]
    },
    {
      "cell_type": "code",
      "metadata": {
        "colab": {
          "base_uri": "https://localhost:8080/"
        },
        "id": "FrCwEpfjqR8-",
        "outputId": "3cee55ef-6782-489b-e3d4-bb7982180a66"
      },
      "source": [
        "data['Make'].replace('TOYOTA SCION','SCION',inplace=True)"
      ],
      "execution_count": 84,
      "outputs": [
        {
          "output_type": "stream",
          "text": [
            "time: 4.86 ms (started: 2021-08-13 14:44:36 +00:00)\n"
          ],
          "name": "stdout"
        }
      ]
    },
    {
      "cell_type": "code",
      "metadata": {
        "colab": {
          "base_uri": "https://localhost:8080/",
          "height": 134
        },
        "id": "BoVji5PEiHLe",
        "outputId": "eeab68ed-2fab-401a-8d2a-aa98ce8456d7"
      },
      "source": [
        "data[data['Transmission']=='Manual']"
      ],
      "execution_count": 85,
      "outputs": [
        {
          "output_type": "execute_result",
          "data": {
            "text/html": [
              "<div>\n",
              "<style scoped>\n",
              "    .dataframe tbody tr th:only-of-type {\n",
              "        vertical-align: middle;\n",
              "    }\n",
              "\n",
              "    .dataframe tbody tr th {\n",
              "        vertical-align: top;\n",
              "    }\n",
              "\n",
              "    .dataframe thead th {\n",
              "        text-align: right;\n",
              "    }\n",
              "</style>\n",
              "<table border=\"1\" class=\"dataframe\">\n",
              "  <thead>\n",
              "    <tr style=\"text-align: right;\">\n",
              "      <th></th>\n",
              "      <th>IsBadBuy</th>\n",
              "      <th>Auction</th>\n",
              "      <th>VehicleAge</th>\n",
              "      <th>Make</th>\n",
              "      <th>Color</th>\n",
              "      <th>Transmission</th>\n",
              "      <th>WheelType</th>\n",
              "      <th>VehOdo</th>\n",
              "      <th>Nationality</th>\n",
              "      <th>Size</th>\n",
              "      <th>TopThreeAmericanName</th>\n",
              "      <th>BYRNO</th>\n",
              "      <th>VNZIP1</th>\n",
              "      <th>VNST</th>\n",
              "      <th>VehBCost</th>\n",
              "      <th>IsOnlineSale</th>\n",
              "      <th>WarrantyCost</th>\n",
              "    </tr>\n",
              "  </thead>\n",
              "  <tbody>\n",
              "    <tr>\n",
              "      <th>33096</th>\n",
              "      <td>0</td>\n",
              "      <td>OTHER</td>\n",
              "      <td>3</td>\n",
              "      <td>HYUNDAI</td>\n",
              "      <td>SILVER</td>\n",
              "      <td>Manual</td>\n",
              "      <td>Alloy</td>\n",
              "      <td>77839</td>\n",
              "      <td>OTHER ASIAN</td>\n",
              "      <td>MEDIUM</td>\n",
              "      <td>OTHER</td>\n",
              "      <td>18880</td>\n",
              "      <td>32750</td>\n",
              "      <td>FL</td>\n",
              "      <td>3800.0</td>\n",
              "      <td>0</td>\n",
              "      <td>569</td>\n",
              "    </tr>\n",
              "  </tbody>\n",
              "</table>\n",
              "</div>"
            ],
            "text/plain": [
              "       IsBadBuy Auction  VehicleAge  ... VehBCost IsOnlineSale WarrantyCost\n",
              "33096         0   OTHER           3  ...   3800.0            0          569\n",
              "\n",
              "[1 rows x 17 columns]"
            ]
          },
          "metadata": {
            "tags": []
          },
          "execution_count": 85
        },
        {
          "output_type": "stream",
          "text": [
            "time: 46 ms (started: 2021-08-13 14:44:36 +00:00)\n"
          ],
          "name": "stdout"
        }
      ]
    },
    {
      "cell_type": "code",
      "metadata": {
        "id": "koSnKorRiOsE",
        "colab": {
          "base_uri": "https://localhost:8080/"
        },
        "outputId": "74f184f1-41f0-4739-a7ac-6ba25d919a68"
      },
      "source": [
        "data['Transmission'].replace('Manual','MANUAL',inplace=True)"
      ],
      "execution_count": 86,
      "outputs": [
        {
          "output_type": "stream",
          "text": [
            "time: 4.4 ms (started: 2021-08-13 14:44:36 +00:00)\n"
          ],
          "name": "stdout"
        }
      ]
    },
    {
      "cell_type": "code",
      "metadata": {
        "id": "pAV3-lYLgg78",
        "colab": {
          "base_uri": "https://localhost:8080/"
        },
        "outputId": "0df25ffd-aa05-480f-95d8-7601066c22b4"
      },
      "source": [
        "# Taking care of null values\n",
        "data['WheelType'].fillna(value='WheelType_unk',inplace=True)\n",
        "data['Color'].fillna(value='Color_unk',inplace=True)\n",
        "data['Transmission'].fillna(value='Transmission_unk',inplace=True)\n",
        "data['Nationality'].fillna(value='Nationality_unk',inplace=True)\n",
        "data['Size'].fillna(value='Size_unk',inplace=True)\n",
        "data['TopThreeAmericanName'].fillna(value='TopThreeAmericanName_unk',inplace=True)"
      ],
      "execution_count": 87,
      "outputs": [
        {
          "output_type": "stream",
          "text": [
            "time: 37.6 ms (started: 2021-08-13 14:44:36 +00:00)\n"
          ],
          "name": "stdout"
        }
      ]
    },
    {
      "cell_type": "code",
      "metadata": {
        "colab": {
          "base_uri": "https://localhost:8080/"
        },
        "id": "gqAJbQSkYAxr",
        "outputId": "d2caf258-cea6-4dfb-ceb5-5323a286a07c"
      },
      "source": [
        "# Which columns are numerical columns?\n",
        "data.drop(['IsBadBuy'],axis=1).dtypes!='object'"
      ],
      "execution_count": 88,
      "outputs": [
        {
          "output_type": "execute_result",
          "data": {
            "text/plain": [
              "Auction                 False\n",
              "VehicleAge               True\n",
              "Make                    False\n",
              "Color                   False\n",
              "Transmission            False\n",
              "WheelType               False\n",
              "VehOdo                   True\n",
              "Nationality             False\n",
              "Size                    False\n",
              "TopThreeAmericanName    False\n",
              "BYRNO                    True\n",
              "VNZIP1                   True\n",
              "VNST                    False\n",
              "VehBCost                 True\n",
              "IsOnlineSale             True\n",
              "WarrantyCost             True\n",
              "dtype: bool"
            ]
          },
          "metadata": {
            "tags": []
          },
          "execution_count": 88
        },
        {
          "output_type": "stream",
          "text": [
            "time: 15.5 ms (started: 2021-08-13 14:44:36 +00:00)\n"
          ],
          "name": "stdout"
        }
      ]
    },
    {
      "cell_type": "code",
      "metadata": {
        "colab": {
          "base_uri": "https://localhost:8080/"
        },
        "id": "zbgmX3gZYuik",
        "outputId": "fcb6b4cd-c18d-4ee3-cdb5-eda024e3546e"
      },
      "source": [
        "# List of numerical columns and categorical columns\n",
        "not_categorical=data.drop(['IsBadBuy'],axis=1).columns[data.drop(['IsBadBuy'],axis=1).dtypes!='object']\n",
        "categorical=data.drop(['IsBadBuy'],axis=1).columns[data.drop(['IsBadBuy'],axis=1).dtypes=='object']\n",
        "print(\"Non Categorical: \", not_categorical)\n",
        "print(\"Categorical: \", categorical)"
      ],
      "execution_count": 89,
      "outputs": [
        {
          "output_type": "stream",
          "text": [
            "Non Categorical:  Index(['VehicleAge', 'VehOdo', 'BYRNO', 'VNZIP1', 'VehBCost', 'IsOnlineSale',\n",
            "       'WarrantyCost'],\n",
            "      dtype='object')\n",
            "Categorical:  Index(['Auction', 'Make', 'Color', 'Transmission', 'WheelType', 'Nationality',\n",
            "       'Size', 'TopThreeAmericanName', 'VNST'],\n",
            "      dtype='object')\n",
            "time: 40 ms (started: 2021-08-13 14:44:36 +00:00)\n"
          ],
          "name": "stdout"
        }
      ]
    },
    {
      "cell_type": "code",
      "metadata": {
        "colab": {
          "base_uri": "https://localhost:8080/",
          "height": 221
        },
        "id": "cjYSTnKVZVBQ",
        "outputId": "109646cd-ac1a-4952-8cbf-15b83f9cbb4e"
      },
      "source": [
        "data[not_categorical].head()"
      ],
      "execution_count": 90,
      "outputs": [
        {
          "output_type": "execute_result",
          "data": {
            "text/html": [
              "<div>\n",
              "<style scoped>\n",
              "    .dataframe tbody tr th:only-of-type {\n",
              "        vertical-align: middle;\n",
              "    }\n",
              "\n",
              "    .dataframe tbody tr th {\n",
              "        vertical-align: top;\n",
              "    }\n",
              "\n",
              "    .dataframe thead th {\n",
              "        text-align: right;\n",
              "    }\n",
              "</style>\n",
              "<table border=\"1\" class=\"dataframe\">\n",
              "  <thead>\n",
              "    <tr style=\"text-align: right;\">\n",
              "      <th></th>\n",
              "      <th>VehicleAge</th>\n",
              "      <th>VehOdo</th>\n",
              "      <th>BYRNO</th>\n",
              "      <th>VNZIP1</th>\n",
              "      <th>VehBCost</th>\n",
              "      <th>IsOnlineSale</th>\n",
              "      <th>WarrantyCost</th>\n",
              "    </tr>\n",
              "  </thead>\n",
              "  <tbody>\n",
              "    <tr>\n",
              "      <th>0</th>\n",
              "      <td>3</td>\n",
              "      <td>89046</td>\n",
              "      <td>21973</td>\n",
              "      <td>33619</td>\n",
              "      <td>7100.0</td>\n",
              "      <td>0</td>\n",
              "      <td>1113</td>\n",
              "    </tr>\n",
              "    <tr>\n",
              "      <th>1</th>\n",
              "      <td>5</td>\n",
              "      <td>93593</td>\n",
              "      <td>19638</td>\n",
              "      <td>33619</td>\n",
              "      <td>7600.0</td>\n",
              "      <td>0</td>\n",
              "      <td>1053</td>\n",
              "    </tr>\n",
              "    <tr>\n",
              "      <th>2</th>\n",
              "      <td>4</td>\n",
              "      <td>73807</td>\n",
              "      <td>19638</td>\n",
              "      <td>33619</td>\n",
              "      <td>4900.0</td>\n",
              "      <td>0</td>\n",
              "      <td>1389</td>\n",
              "    </tr>\n",
              "    <tr>\n",
              "      <th>3</th>\n",
              "      <td>5</td>\n",
              "      <td>65617</td>\n",
              "      <td>19638</td>\n",
              "      <td>33619</td>\n",
              "      <td>4100.0</td>\n",
              "      <td>0</td>\n",
              "      <td>630</td>\n",
              "    </tr>\n",
              "    <tr>\n",
              "      <th>4</th>\n",
              "      <td>4</td>\n",
              "      <td>69367</td>\n",
              "      <td>19638</td>\n",
              "      <td>33619</td>\n",
              "      <td>4000.0</td>\n",
              "      <td>0</td>\n",
              "      <td>1020</td>\n",
              "    </tr>\n",
              "  </tbody>\n",
              "</table>\n",
              "</div>"
            ],
            "text/plain": [
              "   VehicleAge  VehOdo  BYRNO  VNZIP1  VehBCost  IsOnlineSale  WarrantyCost\n",
              "0           3   89046  21973   33619    7100.0             0          1113\n",
              "1           5   93593  19638   33619    7600.0             0          1053\n",
              "2           4   73807  19638   33619    4900.0             0          1389\n",
              "3           5   65617  19638   33619    4100.0             0           630\n",
              "4           4   69367  19638   33619    4000.0             0          1020"
            ]
          },
          "metadata": {
            "tags": []
          },
          "execution_count": 90
        },
        {
          "output_type": "stream",
          "text": [
            "time: 24 ms (started: 2021-08-13 14:44:36 +00:00)\n"
          ],
          "name": "stdout"
        }
      ]
    },
    {
      "cell_type": "code",
      "metadata": {
        "id": "oU2Osl7gdF0W",
        "colab": {
          "base_uri": "https://localhost:8080/"
        },
        "outputId": "b9279689-fda6-4dc0-eec4-42988453ad50"
      },
      "source": [
        "# Scaling Numerical columns\n",
        "from sklearn.preprocessing import MinMaxScaler\n",
        "scaler = MinMaxScaler()\n",
        "data[['Scaled_VehicleAge']] = scaler.fit_transform(data[['VehicleAge']])\n",
        "data[['Scaled_VehOdo']] = scaler.fit_transform(data[['VehOdo']])\n",
        "data[['Scaled_BYRNO']] = scaler.fit_transform(data[['BYRNO']])\n",
        "data[['Scaled_VehBCost']] = scaler.fit_transform(data[['VehBCost']])\n",
        "data[['Scaled_IsOnlineSale']] = scaler.fit_transform(data[['IsOnlineSale']])\n",
        "data[['Scaled_WarrantyCost']] = scaler.fit_transform(data[['WarrantyCost']])"
      ],
      "execution_count": 91,
      "outputs": [
        {
          "output_type": "stream",
          "text": [
            "time: 94.8 ms (started: 2021-08-13 14:44:36 +00:00)\n"
          ],
          "name": "stdout"
        }
      ]
    },
    {
      "cell_type": "code",
      "metadata": {
        "colab": {
          "base_uri": "https://localhost:8080/",
          "height": 275
        },
        "id": "qL2dayN0f03w",
        "outputId": "40a08926-878f-4b4c-ac80-b9c94e064733"
      },
      "source": [
        "# Keeping Scaled Data and dropping the not scaled datas\n",
        "data = data.drop(columns = not_categorical, axis=1)\n",
        "data.head()"
      ],
      "execution_count": 92,
      "outputs": [
        {
          "output_type": "execute_result",
          "data": {
            "text/html": [
              "<div>\n",
              "<style scoped>\n",
              "    .dataframe tbody tr th:only-of-type {\n",
              "        vertical-align: middle;\n",
              "    }\n",
              "\n",
              "    .dataframe tbody tr th {\n",
              "        vertical-align: top;\n",
              "    }\n",
              "\n",
              "    .dataframe thead th {\n",
              "        text-align: right;\n",
              "    }\n",
              "</style>\n",
              "<table border=\"1\" class=\"dataframe\">\n",
              "  <thead>\n",
              "    <tr style=\"text-align: right;\">\n",
              "      <th></th>\n",
              "      <th>IsBadBuy</th>\n",
              "      <th>Auction</th>\n",
              "      <th>Make</th>\n",
              "      <th>Color</th>\n",
              "      <th>Transmission</th>\n",
              "      <th>WheelType</th>\n",
              "      <th>Nationality</th>\n",
              "      <th>Size</th>\n",
              "      <th>TopThreeAmericanName</th>\n",
              "      <th>VNST</th>\n",
              "      <th>Scaled_VehicleAge</th>\n",
              "      <th>Scaled_VehOdo</th>\n",
              "      <th>Scaled_BYRNO</th>\n",
              "      <th>Scaled_VehBCost</th>\n",
              "      <th>Scaled_IsOnlineSale</th>\n",
              "      <th>Scaled_WarrantyCost</th>\n",
              "    </tr>\n",
              "  </thead>\n",
              "  <tbody>\n",
              "    <tr>\n",
              "      <th>0</th>\n",
              "      <td>0</td>\n",
              "      <td>ADESA</td>\n",
              "      <td>MAZDA</td>\n",
              "      <td>RED</td>\n",
              "      <td>AUTO</td>\n",
              "      <td>Alloy</td>\n",
              "      <td>OTHER ASIAN</td>\n",
              "      <td>MEDIUM</td>\n",
              "      <td>OTHER</td>\n",
              "      <td>FL</td>\n",
              "      <td>0.333333</td>\n",
              "      <td>0.759487</td>\n",
              "      <td>0.213675</td>\n",
              "      <td>0.156132</td>\n",
              "      <td>0.0</td>\n",
              "      <td>0.092524</td>\n",
              "    </tr>\n",
              "    <tr>\n",
              "      <th>1</th>\n",
              "      <td>0</td>\n",
              "      <td>ADESA</td>\n",
              "      <td>DODGE</td>\n",
              "      <td>WHITE</td>\n",
              "      <td>AUTO</td>\n",
              "      <td>Alloy</td>\n",
              "      <td>AMERICAN</td>\n",
              "      <td>LARGE TRUCK</td>\n",
              "      <td>CHRYSLER</td>\n",
              "      <td>FL</td>\n",
              "      <td>0.555556</td>\n",
              "      <td>0.800491</td>\n",
              "      <td>0.190071</td>\n",
              "      <td>0.167129</td>\n",
              "      <td>0.0</td>\n",
              "      <td>0.083997</td>\n",
              "    </tr>\n",
              "    <tr>\n",
              "      <th>2</th>\n",
              "      <td>0</td>\n",
              "      <td>ADESA</td>\n",
              "      <td>DODGE</td>\n",
              "      <td>MAROON</td>\n",
              "      <td>AUTO</td>\n",
              "      <td>Covers</td>\n",
              "      <td>AMERICAN</td>\n",
              "      <td>MEDIUM</td>\n",
              "      <td>CHRYSLER</td>\n",
              "      <td>FL</td>\n",
              "      <td>0.444444</td>\n",
              "      <td>0.622065</td>\n",
              "      <td>0.190071</td>\n",
              "      <td>0.107746</td>\n",
              "      <td>0.0</td>\n",
              "      <td>0.131751</td>\n",
              "    </tr>\n",
              "    <tr>\n",
              "      <th>3</th>\n",
              "      <td>0</td>\n",
              "      <td>ADESA</td>\n",
              "      <td>DODGE</td>\n",
              "      <td>SILVER</td>\n",
              "      <td>AUTO</td>\n",
              "      <td>Alloy</td>\n",
              "      <td>AMERICAN</td>\n",
              "      <td>COMPACT</td>\n",
              "      <td>CHRYSLER</td>\n",
              "      <td>FL</td>\n",
              "      <td>0.555556</td>\n",
              "      <td>0.548209</td>\n",
              "      <td>0.190071</td>\n",
              "      <td>0.090151</td>\n",
              "      <td>0.0</td>\n",
              "      <td>0.023877</td>\n",
              "    </tr>\n",
              "    <tr>\n",
              "      <th>4</th>\n",
              "      <td>0</td>\n",
              "      <td>ADESA</td>\n",
              "      <td>FORD</td>\n",
              "      <td>SILVER</td>\n",
              "      <td>MANUAL</td>\n",
              "      <td>Covers</td>\n",
              "      <td>AMERICAN</td>\n",
              "      <td>COMPACT</td>\n",
              "      <td>FORD</td>\n",
              "      <td>FL</td>\n",
              "      <td>0.444444</td>\n",
              "      <td>0.582026</td>\n",
              "      <td>0.190071</td>\n",
              "      <td>0.087952</td>\n",
              "      <td>0.0</td>\n",
              "      <td>0.079306</td>\n",
              "    </tr>\n",
              "  </tbody>\n",
              "</table>\n",
              "</div>"
            ],
            "text/plain": [
              "   IsBadBuy Auction  ... Scaled_IsOnlineSale Scaled_WarrantyCost\n",
              "0         0   ADESA  ...                 0.0            0.092524\n",
              "1         0   ADESA  ...                 0.0            0.083997\n",
              "2         0   ADESA  ...                 0.0            0.131751\n",
              "3         0   ADESA  ...                 0.0            0.023877\n",
              "4         0   ADESA  ...                 0.0            0.079306\n",
              "\n",
              "[5 rows x 16 columns]"
            ]
          },
          "metadata": {
            "tags": []
          },
          "execution_count": 92
        },
        {
          "output_type": "stream",
          "text": [
            "time: 47.4 ms (started: 2021-08-13 14:44:36 +00:00)\n"
          ],
          "name": "stdout"
        }
      ]
    },
    {
      "cell_type": "code",
      "metadata": {
        "id": "KyCcNZg4i0Kt",
        "colab": {
          "base_uri": "https://localhost:8080/"
        },
        "outputId": "3a6c5225-b505-4b41-ce78-412b9674cb76"
      },
      "source": [
        "# One Hot Encoding the Categorical columns\n",
        "categorical=data.drop(['IsBadBuy'],axis=1).columns[data.drop(['IsBadBuy'],axis=1).dtypes=='object']\n",
        "data = pd.get_dummies(data, columns=categorical, drop_first=True)"
      ],
      "execution_count": 93,
      "outputs": [
        {
          "output_type": "stream",
          "text": [
            "time: 94.5 ms (started: 2021-08-13 14:44:36 +00:00)\n"
          ],
          "name": "stdout"
        }
      ]
    },
    {
      "cell_type": "code",
      "metadata": {
        "colab": {
          "base_uri": "https://localhost:8080/"
        },
        "id": "qjMwAKV8gYtK",
        "outputId": "c9c2c7a4-ce3f-4921-cb30-30edd7b94567"
      },
      "source": [
        "# Train Shape after preprocessing\n",
        "print(data.shape)"
      ],
      "execution_count": 94,
      "outputs": [
        {
          "output_type": "stream",
          "text": [
            "(72983, 117)\n",
            "time: 935 µs (started: 2021-08-13 14:44:36 +00:00)\n"
          ],
          "name": "stdout"
        }
      ]
    },
    {
      "cell_type": "markdown",
      "metadata": {
        "id": "cIUGxKAWD53d"
      },
      "source": [
        "# Modeling"
      ]
    },
    {
      "cell_type": "code",
      "metadata": {
        "id": "-Kse02KIjReV",
        "colab": {
          "base_uri": "https://localhost:8080/"
        },
        "outputId": "eead19f0-c39f-4ebb-eeef-e94b74588465"
      },
      "source": [
        "# X y Split\n",
        "X=data.drop(['IsBadBuy'],axis=1)\n",
        "y=data['IsBadBuy']"
      ],
      "execution_count": 95,
      "outputs": [
        {
          "output_type": "stream",
          "text": [
            "time: 19.6 ms (started: 2021-08-13 14:44:46 +00:00)\n"
          ],
          "name": "stdout"
        }
      ]
    },
    {
      "cell_type": "code",
      "metadata": {
        "id": "Q6pQ1gfrjfyk",
        "colab": {
          "base_uri": "https://localhost:8080/"
        },
        "outputId": "5bb0feb0-4b4f-44f1-a93c-945d5579703f"
      },
      "source": [
        "# Train test split\n",
        "from sklearn.model_selection import train_test_split\n",
        "X_train, X_test, y_train, y_test = train_test_split(X, y, test_size=0.25, random_state=42)"
      ],
      "execution_count": 96,
      "outputs": [
        {
          "output_type": "stream",
          "text": [
            "time: 60.6 ms (started: 2021-08-13 14:44:49 +00:00)\n"
          ],
          "name": "stdout"
        }
      ]
    },
    {
      "cell_type": "code",
      "metadata": {
        "id": "fI7lWxioloQH",
        "colab": {
          "base_uri": "https://localhost:8080/"
        },
        "outputId": "d6a68df8-c5f5-441b-f695-0897c6df740f"
      },
      "source": [
        "# Importing Classification Models\n",
        "from sklearn.linear_model import LogisticRegression\n",
        "from sklearn.neighbors import KNeighborsClassifier\n",
        "from sklearn.tree import DecisionTreeClassifier\n",
        "from sklearn.ensemble import RandomForestClassifier\n",
        "from sklearn.naive_bayes import GaussianNB"
      ],
      "execution_count": 97,
      "outputs": [
        {
          "output_type": "stream",
          "text": [
            "time: 3.05 ms (started: 2021-08-13 14:44:51 +00:00)\n"
          ],
          "name": "stdout"
        }
      ]
    },
    {
      "cell_type": "code",
      "metadata": {
        "id": "xZGsZAJwkFNX",
        "colab": {
          "base_uri": "https://localhost:8080/"
        },
        "outputId": "2e3498f4-ca36-4aec-b3e9-8b566b8bc894"
      },
      "source": [
        "models = []\n",
        "models.append(('LR', LogisticRegression()))\n",
        "models.append(('KNN', KNeighborsClassifier()))\n",
        "models.append(('DT', DecisionTreeClassifier()))\n",
        "models.append(('RF', RandomForestClassifier()))\n",
        "models.append(('NB', GaussianNB()))"
      ],
      "execution_count": 98,
      "outputs": [
        {
          "output_type": "stream",
          "text": [
            "time: 2.68 ms (started: 2021-08-13 14:44:59 +00:00)\n"
          ],
          "name": "stdout"
        }
      ]
    },
    {
      "cell_type": "code",
      "metadata": {
        "colab": {
          "base_uri": "https://localhost:8080/"
        },
        "id": "x7fmKHTwoOcn",
        "outputId": "7137f83e-2345-4550-b6b4-0292eae5cb46"
      },
      "source": [
        "for name, model in models:\n",
        "  print(name, model)"
      ],
      "execution_count": 99,
      "outputs": [
        {
          "output_type": "stream",
          "text": [
            "LR LogisticRegression(C=1.0, class_weight=None, dual=False, fit_intercept=True,\n",
            "                   intercept_scaling=1, l1_ratio=None, max_iter=100,\n",
            "                   multi_class='auto', n_jobs=None, penalty='l2',\n",
            "                   random_state=None, solver='lbfgs', tol=0.0001, verbose=0,\n",
            "                   warm_start=False)\n",
            "KNN KNeighborsClassifier(algorithm='auto', leaf_size=30, metric='minkowski',\n",
            "                     metric_params=None, n_jobs=None, n_neighbors=5, p=2,\n",
            "                     weights='uniform')\n",
            "DT DecisionTreeClassifier(ccp_alpha=0.0, class_weight=None, criterion='gini',\n",
            "                       max_depth=None, max_features=None, max_leaf_nodes=None,\n",
            "                       min_impurity_decrease=0.0, min_impurity_split=None,\n",
            "                       min_samples_leaf=1, min_samples_split=2,\n",
            "                       min_weight_fraction_leaf=0.0, presort='deprecated',\n",
            "                       random_state=None, splitter='best')\n",
            "RF RandomForestClassifier(bootstrap=True, ccp_alpha=0.0, class_weight=None,\n",
            "                       criterion='gini', max_depth=None, max_features='auto',\n",
            "                       max_leaf_nodes=None, max_samples=None,\n",
            "                       min_impurity_decrease=0.0, min_impurity_split=None,\n",
            "                       min_samples_leaf=1, min_samples_split=2,\n",
            "                       min_weight_fraction_leaf=0.0, n_estimators=100,\n",
            "                       n_jobs=None, oob_score=False, random_state=None,\n",
            "                       verbose=0, warm_start=False)\n",
            "NB GaussianNB(priors=None, var_smoothing=1e-09)\n",
            "time: 5.75 ms (started: 2021-08-13 14:45:05 +00:00)\n"
          ],
          "name": "stdout"
        }
      ]
    },
    {
      "cell_type": "code",
      "metadata": {
        "colab": {
          "base_uri": "https://localhost:8080/"
        },
        "id": "k3MQPBVMov7G",
        "outputId": "881486b4-b766-47b7-bad6-ce9dcecba4c7"
      },
      "source": [
        "# Fitting all the models at once to compare\n",
        "results = {}\n",
        "names = []\n",
        "for name, model in models:\n",
        "  model.fit(X_train, y_train)\n",
        "  score = model.score(X_test,y_test)\n",
        "  results[name] = score\n",
        "  print('%s: %f' % (name, score))"
      ],
      "execution_count": 100,
      "outputs": [
        {
          "output_type": "stream",
          "text": [
            "/usr/local/lib/python3.7/dist-packages/sklearn/linear_model/_logistic.py:940: ConvergenceWarning: lbfgs failed to converge (status=1):\n",
            "STOP: TOTAL NO. of ITERATIONS REACHED LIMIT.\n",
            "\n",
            "Increase the number of iterations (max_iter) or scale the data as shown in:\n",
            "    https://scikit-learn.org/stable/modules/preprocessing.html\n",
            "Please also refer to the documentation for alternative solver options:\n",
            "    https://scikit-learn.org/stable/modules/linear_model.html#logistic-regression\n",
            "  extra_warning_msg=_LOGISTIC_SOLVER_CONVERGENCE_MSG)\n"
          ],
          "name": "stderr"
        },
        {
          "output_type": "stream",
          "text": [
            "LR: 0.894991\n",
            "KNN: 0.879864\n",
            "DT: 0.824181\n",
            "RF: 0.899649\n",
            "NB: 0.157678\n",
            "time: 2min 17s (started: 2021-08-13 14:45:12 +00:00)\n"
          ],
          "name": "stdout"
        }
      ]
    },
    {
      "cell_type": "code",
      "metadata": {
        "colab": {
          "base_uri": "https://localhost:8080/",
          "height": 35
        },
        "id": "B_2pUdkbrQs7",
        "outputId": "c53987ab-6c50-4542-a22f-b51ab717f185"
      },
      "source": [
        "# Random Forest got highest Score\n",
        "max(results, key=results.get)"
      ],
      "execution_count": 101,
      "outputs": [
        {
          "output_type": "execute_result",
          "data": {
            "application/vnd.google.colaboratory.intrinsic+json": {
              "type": "string"
            },
            "text/plain": [
              "'RF'"
            ]
          },
          "metadata": {
            "tags": []
          },
          "execution_count": 101
        },
        {
          "output_type": "stream",
          "text": [
            "time: 5.05 ms (started: 2021-08-13 14:48:55 +00:00)\n"
          ],
          "name": "stdout"
        }
      ]
    },
    {
      "cell_type": "code",
      "metadata": {
        "id": "E2lHCrpHlCI8",
        "colab": {
          "base_uri": "https://localhost:8080/"
        },
        "outputId": "79e7b6ed-0017-43d5-a807-c4079c9af37f"
      },
      "source": [
        "model = models[3][1] # Random Forest"
      ],
      "execution_count": 102,
      "outputs": [
        {
          "output_type": "stream",
          "text": [
            "time: 764 µs (started: 2021-08-13 14:48:58 +00:00)\n"
          ],
          "name": "stdout"
        }
      ]
    },
    {
      "cell_type": "code",
      "metadata": {
        "colab": {
          "base_uri": "https://localhost:8080/"
        },
        "id": "ytis1EVGl1mc",
        "outputId": "2d28f226-7823-44cd-cb49-5784e85a67de"
      },
      "source": [
        "model.fit(X_train, y_train)\n",
        "y_pred = model.predict(X_test)\n",
        "from sklearn.metrics import classification_report\n",
        "print(classification_report(y_test, y_pred))"
      ],
      "execution_count": 103,
      "outputs": [
        {
          "output_type": "stream",
          "text": [
            "              precision    recall  f1-score   support\n",
            "\n",
            "           0       0.90      0.99      0.95     16015\n",
            "           1       0.79      0.24      0.37      2231\n",
            "\n",
            "    accuracy                           0.90     18246\n",
            "   macro avg       0.85      0.62      0.66     18246\n",
            "weighted avg       0.89      0.90      0.87     18246\n",
            "\n",
            "time: 8.28 s (started: 2021-08-13 14:49:02 +00:00)\n"
          ],
          "name": "stdout"
        }
      ]
    },
    {
      "cell_type": "code",
      "metadata": {
        "colab": {
          "base_uri": "https://localhost:8080/"
        },
        "id": "Vo_0Lhz7_sj2",
        "outputId": "33e39501-1a07-462f-ef3d-f1ea9dbcbc85"
      },
      "source": [
        "from sklearn.metrics import confusion_matrix\n",
        "print(confusion_matrix(y_test, y_pred))"
      ],
      "execution_count": 105,
      "outputs": [
        {
          "output_type": "stream",
          "text": [
            "[[15876   139]\n",
            " [ 1696   535]]\n",
            "time: 22.8 ms (started: 2021-08-13 14:52:06 +00:00)\n"
          ],
          "name": "stdout"
        }
      ]
    },
    {
      "cell_type": "code",
      "metadata": {
        "id": "SG63Lo2-oNDV",
        "colab": {
          "base_uri": "https://localhost:8080/"
        },
        "outputId": "744f8dc2-bed3-4736-bcce-2de14db1c7aa"
      },
      "source": [
        "# Hyperparameter Tuning for Random Forest\n",
        "import numpy as np\n",
        "# Number of trees in random forest\n",
        "n_estimators = [int(x) for x in np.linspace(start = 100, stop = 1200, num = 12)]\n",
        "# Number of features to consider at every split\n",
        "max_features = ['auto', 'sqrt']\n",
        "# Maximum number of levels in tree\n",
        "max_depth = [int(x) for x in np.linspace(5, 30, num = 6)]\n",
        "# max_depth.append(None)\n",
        "# Minimum number of samples required to split a node\n",
        "min_samples_split = [2, 5, 10, 15, 100]\n",
        "# Minimum number of samples required at each leaf node\n",
        "min_samples_leaf = [1, 2, 5, 10]\n",
        "\n",
        "param_grid = {'n_estimators': n_estimators,\n",
        "               'max_features': max_features,\n",
        "               'max_depth': max_depth,\n",
        "               'criterion': ['gini','entropy'],\n",
        "               'min_samples_split': min_samples_split,\n",
        "               'min_samples_leaf': min_samples_leaf}\n",
        "print(param_grid)"
      ],
      "execution_count": null,
      "outputs": [
        {
          "output_type": "stream",
          "text": [
            "{'n_estimators': [100, 200, 300, 400, 500, 600, 700, 800, 900, 1000, 1100, 1200], 'max_features': ['auto', 'sqrt'], 'max_depth': [5, 10, 15, 20, 25, 30], 'criterion': ['gini', 'entropy'], 'min_samples_split': [2, 5, 10, 15, 100], 'min_samples_leaf': [1, 2, 5, 10]}\n",
            "time: 10.4 ms (started: 2021-08-13 13:13:05 +00:00)\n"
          ],
          "name": "stdout"
        }
      ]
    },
    {
      "cell_type": "code",
      "metadata": {
        "id": "ask99bA9ox_W",
        "colab": {
          "base_uri": "https://localhost:8080/"
        },
        "outputId": "6dbe500c-bc86-439c-ce93-ff6320856762"
      },
      "source": [
        "from sklearn.model_selection import RandomizedSearchCV\n",
        "rf_random = RandomizedSearchCV(estimator = model, \n",
        "                               param_distributions = param_grid,\n",
        "                               scoring='neg_mean_squared_error', \n",
        "                               n_iter = 10, cv = 5, verbose=2, \n",
        "                               random_state=42, n_jobs = 1)"
      ],
      "execution_count": null,
      "outputs": [
        {
          "output_type": "stream",
          "text": [
            "time: 3.39 ms (started: 2021-08-13 13:13:05 +00:00)\n"
          ],
          "name": "stdout"
        }
      ]
    },
    {
      "cell_type": "code",
      "metadata": {
        "colab": {
          "base_uri": "https://localhost:8080/"
        },
        "id": "B2BQYU2nncT5",
        "outputId": "03bbae13-3eed-42cf-b7a1-817bcbe511dd"
      },
      "source": [
        "rf_random.fit(X_train,y_train)"
      ],
      "execution_count": null,
      "outputs": [
        {
          "output_type": "stream",
          "text": [
            "Fitting 5 folds for each of 10 candidates, totalling 50 fits\n",
            "[CV] n_estimators=900, min_samples_split=5, min_samples_leaf=5, max_features=sqrt, max_depth=10, criterion=gini \n"
          ],
          "name": "stdout"
        },
        {
          "output_type": "stream",
          "text": [
            "[Parallel(n_jobs=1)]: Using backend SequentialBackend with 1 concurrent workers.\n"
          ],
          "name": "stderr"
        },
        {
          "output_type": "stream",
          "text": [
            "[CV]  n_estimators=900, min_samples_split=5, min_samples_leaf=5, max_features=sqrt, max_depth=10, criterion=gini, total=  25.4s\n",
            "[CV] n_estimators=900, min_samples_split=5, min_samples_leaf=5, max_features=sqrt, max_depth=10, criterion=gini \n"
          ],
          "name": "stdout"
        },
        {
          "output_type": "stream",
          "text": [
            "[Parallel(n_jobs=1)]: Done   1 out of   1 | elapsed:   25.4s remaining:    0.0s\n"
          ],
          "name": "stderr"
        },
        {
          "output_type": "stream",
          "text": [
            "[CV]  n_estimators=900, min_samples_split=5, min_samples_leaf=5, max_features=sqrt, max_depth=10, criterion=gini, total=  25.6s\n",
            "[CV] n_estimators=900, min_samples_split=5, min_samples_leaf=5, max_features=sqrt, max_depth=10, criterion=gini \n",
            "[CV]  n_estimators=900, min_samples_split=5, min_samples_leaf=5, max_features=sqrt, max_depth=10, criterion=gini, total=  25.6s\n",
            "[CV] n_estimators=900, min_samples_split=5, min_samples_leaf=5, max_features=sqrt, max_depth=10, criterion=gini \n",
            "[CV]  n_estimators=900, min_samples_split=5, min_samples_leaf=5, max_features=sqrt, max_depth=10, criterion=gini, total=  25.8s\n",
            "[CV] n_estimators=900, min_samples_split=5, min_samples_leaf=5, max_features=sqrt, max_depth=10, criterion=gini \n",
            "[CV]  n_estimators=900, min_samples_split=5, min_samples_leaf=5, max_features=sqrt, max_depth=10, criterion=gini, total=  25.3s\n",
            "[CV] n_estimators=300, min_samples_split=100, min_samples_leaf=2, max_features=auto, max_depth=30, criterion=entropy \n",
            "[CV]  n_estimators=300, min_samples_split=100, min_samples_leaf=2, max_features=auto, max_depth=30, criterion=entropy, total=  17.3s\n",
            "[CV] n_estimators=300, min_samples_split=100, min_samples_leaf=2, max_features=auto, max_depth=30, criterion=entropy \n",
            "[CV]  n_estimators=300, min_samples_split=100, min_samples_leaf=2, max_features=auto, max_depth=30, criterion=entropy, total=  16.8s\n",
            "[CV] n_estimators=300, min_samples_split=100, min_samples_leaf=2, max_features=auto, max_depth=30, criterion=entropy \n",
            "[CV]  n_estimators=300, min_samples_split=100, min_samples_leaf=2, max_features=auto, max_depth=30, criterion=entropy, total=  15.9s\n",
            "[CV] n_estimators=300, min_samples_split=100, min_samples_leaf=2, max_features=auto, max_depth=30, criterion=entropy \n",
            "[CV]  n_estimators=300, min_samples_split=100, min_samples_leaf=2, max_features=auto, max_depth=30, criterion=entropy, total=  16.3s\n",
            "[CV] n_estimators=300, min_samples_split=100, min_samples_leaf=2, max_features=auto, max_depth=30, criterion=entropy \n",
            "[CV]  n_estimators=300, min_samples_split=100, min_samples_leaf=2, max_features=auto, max_depth=30, criterion=entropy, total=  16.1s\n",
            "[CV] n_estimators=700, min_samples_split=2, min_samples_leaf=10, max_features=sqrt, max_depth=25, criterion=entropy \n",
            "[CV]  n_estimators=700, min_samples_split=2, min_samples_leaf=10, max_features=sqrt, max_depth=25, criterion=entropy, total=  35.5s\n",
            "[CV] n_estimators=700, min_samples_split=2, min_samples_leaf=10, max_features=sqrt, max_depth=25, criterion=entropy \n",
            "[CV]  n_estimators=700, min_samples_split=2, min_samples_leaf=10, max_features=sqrt, max_depth=25, criterion=entropy, total=  35.0s\n",
            "[CV] n_estimators=700, min_samples_split=2, min_samples_leaf=10, max_features=sqrt, max_depth=25, criterion=entropy \n",
            "[CV]  n_estimators=700, min_samples_split=2, min_samples_leaf=10, max_features=sqrt, max_depth=25, criterion=entropy, total=  37.1s\n",
            "[CV] n_estimators=700, min_samples_split=2, min_samples_leaf=10, max_features=sqrt, max_depth=25, criterion=entropy \n",
            "[CV]  n_estimators=700, min_samples_split=2, min_samples_leaf=10, max_features=sqrt, max_depth=25, criterion=entropy, total=  41.1s\n",
            "[CV] n_estimators=700, min_samples_split=2, min_samples_leaf=10, max_features=sqrt, max_depth=25, criterion=entropy \n",
            "[CV]  n_estimators=700, min_samples_split=2, min_samples_leaf=10, max_features=sqrt, max_depth=25, criterion=entropy, total=  41.7s\n",
            "[CV] n_estimators=800, min_samples_split=10, min_samples_leaf=5, max_features=sqrt, max_depth=25, criterion=entropy \n",
            "[CV]  n_estimators=800, min_samples_split=10, min_samples_leaf=5, max_features=sqrt, max_depth=25, criterion=entropy, total=  50.1s\n",
            "[CV] n_estimators=800, min_samples_split=10, min_samples_leaf=5, max_features=sqrt, max_depth=25, criterion=entropy \n",
            "[CV]  n_estimators=800, min_samples_split=10, min_samples_leaf=5, max_features=sqrt, max_depth=25, criterion=entropy, total=  50.4s\n",
            "[CV] n_estimators=800, min_samples_split=10, min_samples_leaf=5, max_features=sqrt, max_depth=25, criterion=entropy \n",
            "[CV]  n_estimators=800, min_samples_split=10, min_samples_leaf=5, max_features=sqrt, max_depth=25, criterion=entropy, total=  51.4s\n",
            "[CV] n_estimators=800, min_samples_split=10, min_samples_leaf=5, max_features=sqrt, max_depth=25, criterion=entropy \n",
            "[CV]  n_estimators=800, min_samples_split=10, min_samples_leaf=5, max_features=sqrt, max_depth=25, criterion=entropy, total=  50.9s\n",
            "[CV] n_estimators=800, min_samples_split=10, min_samples_leaf=5, max_features=sqrt, max_depth=25, criterion=entropy \n",
            "[CV]  n_estimators=800, min_samples_split=10, min_samples_leaf=5, max_features=sqrt, max_depth=25, criterion=entropy, total=  50.4s\n",
            "[CV] n_estimators=500, min_samples_split=100, min_samples_leaf=5, max_features=sqrt, max_depth=10, criterion=entropy \n",
            "[CV]  n_estimators=500, min_samples_split=100, min_samples_leaf=5, max_features=sqrt, max_depth=10, criterion=entropy, total=  17.5s\n",
            "[CV] n_estimators=500, min_samples_split=100, min_samples_leaf=5, max_features=sqrt, max_depth=10, criterion=entropy \n",
            "[CV]  n_estimators=500, min_samples_split=100, min_samples_leaf=5, max_features=sqrt, max_depth=10, criterion=entropy, total=  17.5s\n",
            "[CV] n_estimators=500, min_samples_split=100, min_samples_leaf=5, max_features=sqrt, max_depth=10, criterion=entropy \n",
            "[CV]  n_estimators=500, min_samples_split=100, min_samples_leaf=5, max_features=sqrt, max_depth=10, criterion=entropy, total=  17.4s\n",
            "[CV] n_estimators=500, min_samples_split=100, min_samples_leaf=5, max_features=sqrt, max_depth=10, criterion=entropy \n",
            "[CV]  n_estimators=500, min_samples_split=100, min_samples_leaf=5, max_features=sqrt, max_depth=10, criterion=entropy, total=  17.7s\n",
            "[CV] n_estimators=500, min_samples_split=100, min_samples_leaf=5, max_features=sqrt, max_depth=10, criterion=entropy \n",
            "[CV]  n_estimators=500, min_samples_split=100, min_samples_leaf=5, max_features=sqrt, max_depth=10, criterion=entropy, total=  17.9s\n",
            "[CV] n_estimators=900, min_samples_split=10, min_samples_leaf=10, max_features=auto, max_depth=5, criterion=entropy \n",
            "[CV]  n_estimators=900, min_samples_split=10, min_samples_leaf=10, max_features=auto, max_depth=5, criterion=entropy, total=  18.8s\n",
            "[CV] n_estimators=900, min_samples_split=10, min_samples_leaf=10, max_features=auto, max_depth=5, criterion=entropy \n",
            "[CV]  n_estimators=900, min_samples_split=10, min_samples_leaf=10, max_features=auto, max_depth=5, criterion=entropy, total=  18.5s\n",
            "[CV] n_estimators=900, min_samples_split=10, min_samples_leaf=10, max_features=auto, max_depth=5, criterion=entropy \n",
            "[CV]  n_estimators=900, min_samples_split=10, min_samples_leaf=10, max_features=auto, max_depth=5, criterion=entropy, total=  18.3s\n",
            "[CV] n_estimators=900, min_samples_split=10, min_samples_leaf=10, max_features=auto, max_depth=5, criterion=entropy \n",
            "[CV]  n_estimators=900, min_samples_split=10, min_samples_leaf=10, max_features=auto, max_depth=5, criterion=entropy, total=  18.5s\n",
            "[CV] n_estimators=900, min_samples_split=10, min_samples_leaf=10, max_features=auto, max_depth=5, criterion=entropy \n",
            "[CV]  n_estimators=900, min_samples_split=10, min_samples_leaf=10, max_features=auto, max_depth=5, criterion=entropy, total=  18.0s\n",
            "[CV] n_estimators=1100, min_samples_split=10, min_samples_leaf=10, max_features=sqrt, max_depth=30, criterion=entropy \n",
            "[CV]  n_estimators=1100, min_samples_split=10, min_samples_leaf=10, max_features=sqrt, max_depth=30, criterion=entropy, total= 1.0min\n",
            "[CV] n_estimators=1100, min_samples_split=10, min_samples_leaf=10, max_features=sqrt, max_depth=30, criterion=entropy \n",
            "[CV]  n_estimators=1100, min_samples_split=10, min_samples_leaf=10, max_features=sqrt, max_depth=30, criterion=entropy, total= 1.0min\n",
            "[CV] n_estimators=1100, min_samples_split=10, min_samples_leaf=10, max_features=sqrt, max_depth=30, criterion=entropy \n",
            "[CV]  n_estimators=1100, min_samples_split=10, min_samples_leaf=10, max_features=sqrt, max_depth=30, criterion=entropy, total= 1.1min\n",
            "[CV] n_estimators=1100, min_samples_split=10, min_samples_leaf=10, max_features=sqrt, max_depth=30, criterion=entropy \n",
            "[CV]  n_estimators=1100, min_samples_split=10, min_samples_leaf=10, max_features=sqrt, max_depth=30, criterion=entropy, total= 1.0min\n",
            "[CV] n_estimators=1100, min_samples_split=10, min_samples_leaf=10, max_features=sqrt, max_depth=30, criterion=entropy \n",
            "[CV]  n_estimators=1100, min_samples_split=10, min_samples_leaf=10, max_features=sqrt, max_depth=30, criterion=entropy, total= 1.1min\n",
            "[CV] n_estimators=1100, min_samples_split=15, min_samples_leaf=10, max_features=sqrt, max_depth=5, criterion=gini \n",
            "[CV]  n_estimators=1100, min_samples_split=15, min_samples_leaf=10, max_features=sqrt, max_depth=5, criterion=gini, total=  21.6s\n",
            "[CV] n_estimators=1100, min_samples_split=15, min_samples_leaf=10, max_features=sqrt, max_depth=5, criterion=gini \n",
            "[CV]  n_estimators=1100, min_samples_split=15, min_samples_leaf=10, max_features=sqrt, max_depth=5, criterion=gini, total=  21.6s\n",
            "[CV] n_estimators=1100, min_samples_split=15, min_samples_leaf=10, max_features=sqrt, max_depth=5, criterion=gini \n",
            "[CV]  n_estimators=1100, min_samples_split=15, min_samples_leaf=10, max_features=sqrt, max_depth=5, criterion=gini, total=  21.8s\n",
            "[CV] n_estimators=1100, min_samples_split=15, min_samples_leaf=10, max_features=sqrt, max_depth=5, criterion=gini \n",
            "[CV]  n_estimators=1100, min_samples_split=15, min_samples_leaf=10, max_features=sqrt, max_depth=5, criterion=gini, total=  21.3s\n",
            "[CV] n_estimators=1100, min_samples_split=15, min_samples_leaf=10, max_features=sqrt, max_depth=5, criterion=gini \n",
            "[CV]  n_estimators=1100, min_samples_split=15, min_samples_leaf=10, max_features=sqrt, max_depth=5, criterion=gini, total=  21.7s\n",
            "[CV] n_estimators=700, min_samples_split=100, min_samples_leaf=1, max_features=auto, max_depth=30, criterion=entropy \n",
            "[CV]  n_estimators=700, min_samples_split=100, min_samples_leaf=1, max_features=auto, max_depth=30, criterion=entropy, total=  43.7s\n",
            "[CV] n_estimators=700, min_samples_split=100, min_samples_leaf=1, max_features=auto, max_depth=30, criterion=entropy \n",
            "[CV]  n_estimators=700, min_samples_split=100, min_samples_leaf=1, max_features=auto, max_depth=30, criterion=entropy, total=  43.2s\n",
            "[CV] n_estimators=700, min_samples_split=100, min_samples_leaf=1, max_features=auto, max_depth=30, criterion=entropy \n",
            "[CV]  n_estimators=700, min_samples_split=100, min_samples_leaf=1, max_features=auto, max_depth=30, criterion=entropy, total=  43.2s\n",
            "[CV] n_estimators=700, min_samples_split=100, min_samples_leaf=1, max_features=auto, max_depth=30, criterion=entropy \n",
            "[CV]  n_estimators=700, min_samples_split=100, min_samples_leaf=1, max_features=auto, max_depth=30, criterion=entropy, total=  42.4s\n",
            "[CV] n_estimators=700, min_samples_split=100, min_samples_leaf=1, max_features=auto, max_depth=30, criterion=entropy \n",
            "[CV]  n_estimators=700, min_samples_split=100, min_samples_leaf=1, max_features=auto, max_depth=30, criterion=entropy, total=  41.9s\n",
            "[CV] n_estimators=1100, min_samples_split=15, min_samples_leaf=2, max_features=auto, max_depth=20, criterion=entropy \n",
            "[CV]  n_estimators=1100, min_samples_split=15, min_samples_leaf=2, max_features=auto, max_depth=20, criterion=entropy, total= 1.1min\n",
            "[CV] n_estimators=1100, min_samples_split=15, min_samples_leaf=2, max_features=auto, max_depth=20, criterion=entropy \n",
            "[CV]  n_estimators=1100, min_samples_split=15, min_samples_leaf=2, max_features=auto, max_depth=20, criterion=entropy, total= 1.1min\n",
            "[CV] n_estimators=1100, min_samples_split=15, min_samples_leaf=2, max_features=auto, max_depth=20, criterion=entropy \n",
            "[CV]  n_estimators=1100, min_samples_split=15, min_samples_leaf=2, max_features=auto, max_depth=20, criterion=entropy, total= 1.1min\n",
            "[CV] n_estimators=1100, min_samples_split=15, min_samples_leaf=2, max_features=auto, max_depth=20, criterion=entropy \n",
            "[CV]  n_estimators=1100, min_samples_split=15, min_samples_leaf=2, max_features=auto, max_depth=20, criterion=entropy, total= 1.1min\n",
            "[CV] n_estimators=1100, min_samples_split=15, min_samples_leaf=2, max_features=auto, max_depth=20, criterion=entropy \n",
            "[CV]  n_estimators=1100, min_samples_split=15, min_samples_leaf=2, max_features=auto, max_depth=20, criterion=entropy, total= 1.1min\n"
          ],
          "name": "stdout"
        },
        {
          "output_type": "stream",
          "text": [
            "[Parallel(n_jobs=1)]: Done  50 out of  50 | elapsed: 30.1min finished\n"
          ],
          "name": "stderr"
        },
        {
          "output_type": "execute_result",
          "data": {
            "text/plain": [
              "RandomizedSearchCV(cv=5, error_score=nan,\n",
              "                   estimator=RandomForestClassifier(bootstrap=True,\n",
              "                                                    ccp_alpha=0.0,\n",
              "                                                    class_weight=None,\n",
              "                                                    criterion='gini',\n",
              "                                                    max_depth=None,\n",
              "                                                    max_features='auto',\n",
              "                                                    max_leaf_nodes=None,\n",
              "                                                    max_samples=None,\n",
              "                                                    min_impurity_decrease=0.0,\n",
              "                                                    min_impurity_split=None,\n",
              "                                                    min_samples_leaf=1,\n",
              "                                                    min_samples_split=2,\n",
              "                                                    min_weight_fraction_leaf=0.0,\n",
              "                                                    n_estimators=100,\n",
              "                                                    n_jobs...\n",
              "                   param_distributions={'criterion': ['gini', 'entropy'],\n",
              "                                        'max_depth': [5, 10, 15, 20, 25, 30],\n",
              "                                        'max_features': ['auto', 'sqrt'],\n",
              "                                        'min_samples_leaf': [1, 2, 5, 10],\n",
              "                                        'min_samples_split': [2, 5, 10, 15,\n",
              "                                                              100],\n",
              "                                        'n_estimators': [100, 200, 300, 400,\n",
              "                                                         500, 600, 700, 800,\n",
              "                                                         900, 1000, 1100,\n",
              "                                                         1200]},\n",
              "                   pre_dispatch='2*n_jobs', random_state=42, refit=True,\n",
              "                   return_train_score=False, scoring='neg_mean_squared_error',\n",
              "                   verbose=2)"
            ]
          },
          "metadata": {
            "tags": []
          },
          "execution_count": 46
        },
        {
          "output_type": "stream",
          "text": [
            "time: 31min 27s (started: 2021-08-13 13:13:05 +00:00)\n"
          ],
          "name": "stdout"
        }
      ]
    },
    {
      "cell_type": "code",
      "metadata": {
        "colab": {
          "base_uri": "https://localhost:8080/"
        },
        "id": "fKJS9UBTyycW",
        "outputId": "6261b697-a27e-49de-8334-4e85977613c7"
      },
      "source": [
        "rf_random.best_params_"
      ],
      "execution_count": null,
      "outputs": [
        {
          "output_type": "execute_result",
          "data": {
            "text/plain": [
              "{'criterion': 'entropy',\n",
              " 'max_depth': 20,\n",
              " 'max_features': 'auto',\n",
              " 'min_samples_leaf': 2,\n",
              " 'min_samples_split': 15,\n",
              " 'n_estimators': 1100}"
            ]
          },
          "metadata": {
            "tags": []
          },
          "execution_count": 47
        },
        {
          "output_type": "stream",
          "text": [
            "time: 9.19 ms (started: 2021-08-13 13:44:33 +00:00)\n"
          ],
          "name": "stdout"
        }
      ]
    },
    {
      "cell_type": "code",
      "metadata": {
        "colab": {
          "base_uri": "https://localhost:8080/"
        },
        "id": "IQjI2rt8A4Xx",
        "outputId": "1b489f88-364b-4ac3-bc89-a1f07fea82b3"
      },
      "source": [
        "rf_random.best_score_"
      ],
      "execution_count": 107,
      "outputs": [
        {
          "output_type": "execute_result",
          "data": {
            "text/plain": [
              "-0.10027952463290175"
            ]
          },
          "metadata": {
            "tags": []
          },
          "execution_count": 107
        },
        {
          "output_type": "stream",
          "text": [
            "time: 5.43 ms (started: 2021-08-13 14:56:33 +00:00)\n"
          ],
          "name": "stdout"
        }
      ]
    },
    {
      "cell_type": "code",
      "metadata": {
        "colab": {
          "base_uri": "https://localhost:8080/"
        },
        "id": "yXTuA8Aqy6X2",
        "outputId": "caa868f7-89ed-42c0-809c-22f7cccf090a"
      },
      "source": [
        "rand_model = rf_random.best_estimator_\n",
        "rand_model"
      ],
      "execution_count": null,
      "outputs": [
        {
          "output_type": "execute_result",
          "data": {
            "text/plain": [
              "RandomForestClassifier(bootstrap=True, ccp_alpha=0.0, class_weight=None,\n",
              "                       criterion='entropy', max_depth=20, max_features='auto',\n",
              "                       max_leaf_nodes=None, max_samples=None,\n",
              "                       min_impurity_decrease=0.0, min_impurity_split=None,\n",
              "                       min_samples_leaf=2, min_samples_split=15,\n",
              "                       min_weight_fraction_leaf=0.0, n_estimators=1100,\n",
              "                       n_jobs=None, oob_score=False, random_state=None,\n",
              "                       verbose=0, warm_start=False)"
            ]
          },
          "metadata": {
            "tags": []
          },
          "execution_count": 48
        },
        {
          "output_type": "stream",
          "text": [
            "time: 5.99 ms (started: 2021-08-13 13:44:33 +00:00)\n"
          ],
          "name": "stdout"
        }
      ]
    },
    {
      "cell_type": "code",
      "metadata": {
        "id": "5S9TfKj_ySpn",
        "colab": {
          "base_uri": "https://localhost:8080/"
        },
        "outputId": "98227d7c-7f09-4382-a312-0d8b0165cf82"
      },
      "source": [
        "rand_model.fit(X_train, y_train)\n",
        "y_pred_rand = rand_model.predict(X_test)\n",
        "rand_model.score(X_test, y_test)"
      ],
      "execution_count": 109,
      "outputs": [
        {
          "output_type": "execute_result",
          "data": {
            "text/plain": [
              "0.9011838211114764"
            ]
          },
          "metadata": {
            "tags": []
          },
          "execution_count": 109
        },
        {
          "output_type": "stream",
          "text": [
            "time: 1min 22s (started: 2021-08-13 15:15:15 +00:00)\n"
          ],
          "name": "stdout"
        }
      ]
    },
    {
      "cell_type": "code",
      "metadata": {
        "id": "GEtoJupwz8Uu",
        "colab": {
          "base_uri": "https://localhost:8080/"
        },
        "outputId": "421a3b0a-283d-4919-ed66-dabba634d414"
      },
      "source": [
        "print(classification_report(y_test, y_pred_rand))"
      ],
      "execution_count": 110,
      "outputs": [
        {
          "output_type": "stream",
          "text": [
            "              precision    recall  f1-score   support\n",
            "\n",
            "           0       0.90      0.99      0.95     16015\n",
            "           1       0.85      0.23      0.37      2231\n",
            "\n",
            "    accuracy                           0.90     18246\n",
            "   macro avg       0.87      0.61      0.66     18246\n",
            "weighted avg       0.90      0.90      0.88     18246\n",
            "\n",
            "time: 29.5 ms (started: 2021-08-13 15:16:47 +00:00)\n"
          ],
          "name": "stdout"
        }
      ]
    },
    {
      "cell_type": "code",
      "metadata": {
        "colab": {
          "base_uri": "https://localhost:8080/"
        },
        "id": "h6-Eo-i_ADtz",
        "outputId": "5b436916-f42c-4aab-e311-60c51817a25f"
      },
      "source": [
        "print(confusion_matrix(y_test, y_pred_rand))"
      ],
      "execution_count": 112,
      "outputs": [
        {
          "output_type": "stream",
          "text": [
            "[[15920    95]\n",
            " [ 1708   523]]\n",
            "time: 21.2 ms (started: 2021-08-13 15:17:32 +00:00)\n"
          ],
          "name": "stdout"
        }
      ]
    }
  ]
}